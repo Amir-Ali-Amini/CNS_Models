{
 "cells": [
  {
   "cell_type": "markdown",
   "metadata": {},
   "source": [
    "<style>\n",
    "@import url('https://fonts.googleapis.com/css2?family=Vazirmatn&display=swap')\n",
    "</style>\n",
    "<link rel=\"stylesheet\" type=\"text/css\" href=\"../../custom_jupyter_style.css\">\n",
    "\n",
    "."
   ]
  },
  {
   "cell_type": "markdown",
   "metadata": {},
   "source": [
    "<div style=\"direction:rtl; width:100%; border:0px solid gray; border-radius:8px; padding:16px; box-sizing:border-box\"> \n",
    "<H1> پروژه اول درس علوم اعصاب محاسباتی </H1>\n",
    "<H2> امیرعلی امینی </H2>\n",
    "<H3> ۶۱۰۳۹۹۱۰۲ </H3>\n",
    "<hr/>\n",
    "<H3>هدف پروژه: </H3>\n",
    "در این پروژه به بررسی مدل های نورونی <b> LIF, ELIF, AELIF </b> میپردازیم. در این پروژه جریان های ورودی متفاوت شامل جریان های\n",
    "<ol style=\"border-right:1px solid gray; margin:8px\">\n",
    "    <li>جریان ثابت</li>\n",
    "    <li>جریان ثابت با نویز</li>\n",
    "    <li>جریان پله ای</li>\n",
    "    <li>جریان پله ای با نویز</li>\n",
    "    <li>جریان سینوسی</li>\n",
    "    <li>جریان سینوسی با نویز</li>\n",
    "    <li>جریان با تغییرات یونیفرم</li>\n",
    "    <li>جریان با تغییرات یونیفرم با نویز</li>\n",
    "</ol>\n",
    "میپردازیم. همچنین در این پروژه بر روی اهمیت و تاثیر پارامتر های مدل ها متمرکز میشویم و سعی بر این است که به صورت دقیق آنها را بررسی کنیم.\n",
    "\n",
    "همچنین در نهایت به مقایسه مدل تغییر یافته توسط من و مدل AELIF میپردازیم.\n",
    "</div>"
   ]
  },
  {
   "cell_type": "code",
   "execution_count": 1,
   "metadata": {},
   "outputs": [],
   "source": [
    "import pymonntorch as pmt\n",
    "import torch \n",
    "from matplotlib import pyplot as plt"
   ]
  },
  {
   "cell_type": "markdown",
   "metadata": {},
   "source": [
    "\n",
    "# مقدمات پیاده سازی :\n",
    "برای پیاده سازی مدل ها ابتدا یک BaseModel تعریف کردم که با تغییر دادن برخی پارامتر ها از مقدار اولیه که صفر یا False هستند میتوانیم مدل های نورونی ELIF و AELIF را نیز داشته باشیم. در واقع مدل نورونی AELIF را پیاده سازی کردم که مقادیر اولیه پارامتر هایی که مربوط به مدل LIF نیست را صفر قرار دادم که در محسابت لحاظر نشوند\n",
    "\n",
    "این کار به این دلیل ممکن است که هر دو مدل ELIF و AELIF مدل ها پیشرفت داده شده LIF هستند و بی تاثیر کردن برخی قسمت های فرمول های آنها میتوان به LIF رسید.\n",
    "\n",
    "این شرایط برای دو مدل ELIF و AELIF نیز قرار است.\n",
    "\n",
    "سپس سه تابع با نام مدل ها ساختم که یک instance از کلاس ها برمیگرداند. ورودی های هر تابع دقیقا ورودی های یکی از سه مدل هستند. از مزایای این کار \n",
    "1. پیشنهاد شدن پارامتر ها توسط auto suggestion vscode  \n",
    "2. پارامتر اضافه ندادن به مدل\n",
    "\n",
    "میباشند.\n",
    "\n",
    "به طور مثال پارامتر های \n",
    "- self.u_rh = self.parameter(\"u_rh\", -60)\n",
    "- self.delta_t = self.parameter(\"delta_t\", 0)\n",
    "\n",
    "مربوط به ELIF و متغییر های \n",
    "- self.a = self.parameter(\"a\",0)\n",
    "- self.b = self.parameter(\"b\",0)\n",
    "- self.tau_w = self.parameter(\"tau_w\", 0)\n",
    "\n",
    "مربوط به AELIF هستند.\n",
    "\n",
    "همچنین برای جلوگیری از صفر شدن مخرج کسر در قسمت نمایی مدل ELIF با قرار دادن OR در مخرج کسر این مشکل رو حل کردم:\n",
    "\n",
    "```python\n",
    "exp_part = self.delta_t * torch.exp((ng.u - self.u_rh)/(self.delta_t or 1))\n",
    "```\n",
    "\n",
    "مدل ها نیر به صورت \n",
    "\n",
    "```python\n",
    "def LIF (threshold=-55,\n",
    "         u_rest=-65,\n",
    "         u_reset=-73.42, \n",
    "         R=1.7,\n",
    "         tau_m=10,\n",
    "         refractory_period = 0):\n",
    "    return BaseModel(threshold=threshold, \n",
    "                     u_reset=u_reset, \n",
    "                     u_rest=u_rest, \n",
    "                     R=R, \n",
    "                     tau_m=tau_m,\n",
    "                     refractory_period=refractory_period)\n",
    "```\n",
    "ساخته شدند"
   ]
  },
  {
   "cell_type": "code",
   "execution_count": 2,
   "metadata": {},
   "outputs": [],
   "source": [
    "import model as mdl\n",
    "import current as cnt\n",
    "from getDevice import get_device\n",
    "from dt import TimeResolution\n",
    "from plot import plot"
   ]
  },
  {
   "cell_type": "markdown",
   "metadata": {},
   "source": [
    "# تابع کلی:\n",
    "در این تابع به ازای هر بار اجرا شدن یک شبکه(network) و یک گروه نورونی (neuron group) ساخته میشود. این موضوع به این دلیل است که نیاز به شبکه و گروه های نورونی متفاوت برای هر قسمت از تمرین داریم و جهت کوتاه تر شدن شد ها قرار گرفته است.\n",
    "\n",
    "در این قسمت دو ثبت کننده (recorder) داریم که یکی از آنها مقادیر \n",
    "- U (voltage)\n",
    "- I (current)\n",
    "- W (adaptive variable)\n",
    "\n",
    "را ثبت میکند و دیگری زمان ضربه(spike) را به خاطر میسپارد."
   ]
  },
  {
   "cell_type": "code",
   "execution_count": 3,
   "metadata": {},
   "outputs": [
    {
     "name": "stdout",
     "output_type": "stream",
     "text": [
      "mps is available but it is forced to use CPU\n"
     ]
    }
   ],
   "source": [
    "\n",
    "def simulate(title=\"LIF\",\n",
    "              model=mdl.LIF(),\n",
    "              current=cnt.SteadyCurrent(value=6),\n",
    "                DEVICE=get_device(force_cpu=True )[0],\n",
    "                 dt=0.5 ,\n",
    "                 iteration=1000,\n",
    "                 ng_size=2,\n",
    "                 print_plots = True):\n",
    "\n",
    "      net = pmt.Network(device=DEVICE, dtype=torch.float32, behavior={1: TimeResolution(dt=dt)})\n",
    "\n",
    "      ng = pmt.NeuronGroup(size= ng_size,net= net, behavior= {\n",
    "                                        2: current,\n",
    "                                        4: model,\n",
    "                                        \n",
    "                                        9: pmt.Recorder(variables=[\"u\", \"I\",\"w\"], tag=\"ng1_rec, ng1_recorder\"),\n",
    "                                        10: pmt.EventRecorder(\"spike\", tag=\"ng1_evrec\"),\n",
    "                                      }\n",
    "                                      )\n",
    "\n",
    "\n",
    "\n",
    "      net.initialize()\n",
    "\n",
    "      net.simulate_iterations(iteration)\n",
    "\n",
    "      plot_title = f\"[[{title}]]\\n\"\n",
    "      mean_u = torch.sum(net[\"u\", 0], axis=0) / (iteration)\n",
    "      mean_I = torch.sum(net[\"I\", 0], axis=0) / (iteration)\n",
    "\n",
    "      plot_title += \"\\n\".join([ f\"current: {ng[2][0]}\", \n",
    "                               f\"model: {ng[4][0]}\", \n",
    "                               f\"time resolution: {dt}\", \n",
    "                               f\"ng size: {ng_size}\", \n",
    "                               f\"iteration num: {iteration}\",\n",
    "                               f\"mean u: {mean_u}\",\n",
    "                               f\"mean I: {mean_I}\",\n",
    "                                 ])\n",
    "\n",
    "\n",
    "      print_plots and plot(net,plot_title)\n",
    "      return net"
   ]
  },
  {
   "cell_type": "markdown",
   "metadata": {},
   "source": [
    "# توابع F/I\n",
    "در این قسمت توابعی که برای بدست اوردن مقدار F بر حسب جریان ورودی است قرار گرفته اند به این صورت که برای جریان های ۰ تا یک مقدار مشخص، مقدار F به ازای هر مقدار جریان بر هست گام مشخص شده بدست می‌آید و نمودار آن در نهایت کشیده میشود."
   ]
  },
  {
   "cell_type": "code",
   "execution_count": 4,
   "metadata": {},
   "outputs": [],
   "source": [
    "def simulate_IF_LIF(current=cnt.SteadyCurrent,\n",
    "                    rng=20, \n",
    "                    step=1,\n",
    "                    dt=1,\n",
    "                    iteration=1000,\n",
    "                    title=\"LIF\",\n",
    "                    noise_range=0):\n",
    "    F = []\n",
    "    I = []\n",
    "    for i in range(1,rng,step):\n",
    "        net = simulate(current=current(value=i, noise_range = noise_range),print_plots=False)\n",
    "        I.append(i)\n",
    "        F.append(len(net[\"spike\", 0][:, 0]) / dt*iteration)\n",
    "    plt.plot(I,F)\n",
    "    plt.title(f\"{title}, noise range: {noise_range}\")\n",
    "    plt.xlabel(\"I\")\n",
    "    plt.ylabel(\"F\")\n",
    "    plt.show()\n",
    "\n",
    "\n",
    "def simulate_IF_ELIF(current=cnt.SteadyCurrent,\n",
    "                     rng=20,\n",
    "                     step=1,\n",
    "                     dt=0.5,\n",
    "                     iteration=1000,\n",
    "                     title=\"ELIF\",\n",
    "                     noise_range=0):\n",
    "    F = []\n",
    "    I = []\n",
    "    for i in range(1,rng,step):\n",
    "        net = simulate(model=mdl.ELIF(u_rh=-50),current=current(value=i, noise_range = noise_range),print_plots=False)\n",
    "        I.append(i)\n",
    "        F.append(len(net[\"spike\", 0][:, 0]) / dt*iteration)\n",
    "    plt.plot(I,F)\n",
    "    plt.title(f\"{title}, noise range: {noise_range}\")\n",
    "    plt.xlabel(\"I\")\n",
    "    plt.ylabel(\"F\")\n",
    "    plt.show()\n",
    "\n",
    "def simulate_IF_AELIF(current=cnt.SteadyCurrent,\n",
    "                      rng=20,\n",
    "                      step=1,\n",
    "                      dt=0.5,\n",
    "                      iteration=1000,\n",
    "                      title=\"AELIF\",\n",
    "                      noise_range=0):\n",
    "    F = []\n",
    "    I = []\n",
    "    for i in range(1,rng,step):\n",
    "        net = simulate(model=mdl.AELIF(u_rh=-50,tau_w=1,b=0.01),current=current(value=i, noise_range = noise_range),print_plots=False)\n",
    "        I.append(i)\n",
    "        F.append(len(net[\"spike\", 0][:, 0]) / dt * iteration)\n",
    "    plt.plot(I,F)\n",
    "    plt.title(f\"{title}, noise range: {noise_range}\")\n",
    "    plt.xlabel(\"I\")\n",
    "    plt.ylabel(\"F\")\n",
    "    plt.show()\n"
   ]
  },
  {
   "cell_type": "code",
   "execution_count": 5,
   "metadata": {},
   "outputs": [],
   "source": [
    "def simulate_mean_LIF(current=cnt.SteadyCurrent,\n",
    "                    rng=20, \n",
    "                    step=1,\n",
    "                    dt=1,\n",
    "                    iteration=1000,\n",
    "                    title=\"LIF\",\n",
    "                    noise_range=0):\n",
    "    I = []\n",
    "    U = []\n",
    "    for i in range(1,rng,step):\n",
    "        net = simulate(current=current(value=i, noise_range = noise_range),print_plots=False)\n",
    "        mean_u = torch.sum(net[\"u\", 0], axis=0) / (iteration)\n",
    "        mean_I = torch.sum(net[\"I\", 0], axis=0) / (iteration)\n",
    "        I.append(mean_I)\n",
    "        U.append(mean_u)\n",
    "    plt.plot(I,U)\n",
    "    plt.title(f\"{title}, noise range: {noise_range}\")\n",
    "    plt.xlabel(\"Mean I\")\n",
    "    plt.ylabel(\"Mean U\")\n",
    "    plt.show()\n",
    "\n",
    "\n",
    "def simulate_mean_ELIF(current=cnt.SteadyCurrent,\n",
    "                     rng=20,\n",
    "                     step=1,\n",
    "                     dt=0.5,\n",
    "                     iteration=1000,\n",
    "                     title=\"ELIF\",\n",
    "                     noise_range=0):\n",
    "    I = []\n",
    "    U = []\n",
    "    for i in range(1,rng,step):\n",
    "        net = simulate(model=mdl.ELIF(u_rh=-50),current=current(value=i, noise_range = noise_range),print_plots=False)\n",
    "        mean_u = torch.sum(net[\"u\", 0], axis=0) / (iteration)\n",
    "        mean_I = torch.sum(net[\"I\", 0], axis=0) / (iteration)\n",
    "        I.append(mean_I)\n",
    "        U.append(mean_u)\n",
    "    plt.plot(I,U)\n",
    "    plt.title(f\"{title}, noise range: {noise_range}\")\n",
    "    plt.xlabel(\"Mean I\")\n",
    "    plt.ylabel(\"Mean U\")\n",
    "    plt.show()\n",
    "\n",
    "def simulate_mean_AELIF(current=cnt.SteadyCurrent,\n",
    "                      rng=20,\n",
    "                      step=1,\n",
    "                      dt=0.5,\n",
    "                      iteration=1000,\n",
    "                      title=\"AELIF\",\n",
    "                      noise_range=0):\n",
    "    I = []\n",
    "    U = []\n",
    "    for i in range(1,rng,step):\n",
    "        net = simulate(model=mdl.AELIF(u_rh=-50,tau_w=1,b=0.01),current=current(value=i, noise_range = noise_range),print_plots=False)\n",
    "        mean_u = torch.sum(net[\"u\", 0], axis=0) / (iteration)\n",
    "        mean_I = torch.sum(net[\"I\", 0], axis=0) / (iteration)\n",
    "        I.append(mean_I)\n",
    "        U.append(mean_u)\n",
    "    plt.plot(I,U)\n",
    "    plt.title(f\"{title}, noise range: {noise_range}\")\n",
    "    plt.xlabel(\"Mean I\")\n",
    "    plt.ylabel(\"Mean U\")\n",
    "    plt.show()\n"
   ]
  },
  {
   "cell_type": "code",
   "execution_count": 6,
   "metadata": {},
   "outputs": [
    {
     "ename": "KeyError",
     "evalue": "'prevent running fllowing cells'",
     "output_type": "error",
     "traceback": [
      "\u001b[0;31m---------------------------------------------------------------------------\u001b[0m",
      "\u001b[0;31mKeyError\u001b[0m                                  Traceback (most recent call last)",
      "Cell \u001b[0;32mIn[6], line 1\u001b[0m\n\u001b[0;32m----> 1\u001b[0m \u001b[38;5;28;01mraise\u001b[39;00m \u001b[38;5;167;01mKeyError\u001b[39;00m(\u001b[38;5;124m\"\u001b[39m\u001b[38;5;124mprevent running fllowing cells\u001b[39m\u001b[38;5;124m\"\u001b[39m)\n",
      "\u001b[0;31mKeyError\u001b[0m: 'prevent running fllowing cells'"
     ]
    }
   ],
   "source": [
    "raise KeyError(\"prevent running fllowing cells\")"
   ]
  },
  {
   "cell_type": "markdown",
   "metadata": {},
   "source": [
    "# قسمت آ)"
   ]
  },
  {
   "cell_type": "markdown",
   "metadata": {},
   "source": [
    "## SteadyCurrent"
   ]
  },
  {
   "cell_type": "markdown",
   "metadata": {},
   "source": [
    "### A - 1 - LIF"
   ]
  },
  {
   "cell_type": "markdown",
   "metadata": {},
   "source": [
    "####  A - 1 - LIF"
   ]
  },
  {
   "cell_type": "markdown",
   "metadata": {},
   "source": [
    "در این قسمت مدل نورونی LIF با جریان ثابت قرار دارد و در قسمت بعدی این مدل با جریان ثابت نویز دار قرار گرفته است. پارامتر ها طوری تنظیم شده اند که در ۱۰۰۰ مرحله (iteration) و با دقت زمانی (time resolution) ۰.۱، تغییرات به صورت قابل فهم و تمایز باشند."
   ]
  },
  {
   "cell_type": "code",
   "execution_count": 7,
   "metadata": {},
   "outputs": [
    {
     "name": "stdout",
     "output_type": "stream",
     "text": [
      "Network['Network_1', 'Network'](Neurons: tensor(2)|1 groups, Synapses: tensor(0.)|0 groups){1:TimeResolution(dt=0.5,)}\n",
      "NeuronGroup['NeuronGroup_1', 'NeuronGroup', 'ng'](2){2:SteadyCurrent(value=2,)4:BaseModel(threshold=-55,u_reset=-70,u_rest=-65,R=1.7,tau_m=10,refractory_period=0,)9:Recorder(variables=['u', 'I', 'w'],gap_width=0,max_length=None,auto_annotate=True,tag=ng1_rec, ng1_recorder,)10:EventRecorder(variables=None,gap_width=0,max_length=None,auto_annotate=True,tag=ng1_evrec,arg_0=spike,)}\n",
      "1000xBatch: 1/1 (100%) 155.024ms\n"
     ]
    },
    {
     "data": {
      "image/png": "[encoded data removed]",
      "text/plain": [
       "<Figure size 1200x800 with 4 Axes>"
      ]
     },
     "metadata": {},
     "output_type": "display_data"
    },
    {
     "data": {
      "text/plain": [
       "Network['Network_1', 'Network'](Neurons: tensor(2)|1 groups, Synapses: tensor(0.)|0 groups){1:TimeResolution(dt=0.5,)}\n",
       "NeuronGroup['NeuronGroup_1', 'NeuronGroup', 'ng'](2){2:SteadyCurrent(value=2,)4:BaseModel(threshold=-55,u_reset=-70,u_rest=-65,R=1.7,tau_m=10,refractory_period=0,)9:Recorder(variables=['u', 'I', 'w'],gap_width=0,max_length=None,auto_annotate=True,tag=ng1_rec, ng1_recorder,)10:EventRecorder(variables=None,gap_width=0,max_length=None,auto_annotate=True,tag=ng1_evrec,arg_0=spike,)}"
      ]
     },
     "execution_count": 7,
     "metadata": {},
     "output_type": "execute_result"
    }
   ],
   "source": [
    "simulate(current=cnt.SteadyCurrent(value=2))\n"
   ]
  },
  {
   "cell_type": "code",
   "execution_count": null,
   "metadata": {},
   "outputs": [
    {
     "ename": "",
     "evalue": "",
     "output_type": "error",
     "traceback": [
      "\u001b[1;31mRunning cells with 'CNSVEnv' requires the ipykernel package.\n",
      "\u001b[1;31mRun the following command to install 'ipykernel' into the Python environment. \n",
      "\u001b[1;31mCommand: '\"/Users/amirali/Library/Mobile Documents/com~apple~CloudDocs/Me/University/Term 8/CNS/HomeWork/CNSVEnv/bin/python\" -m pip install ipykernel -U --force-reinstall'"
     ]
    }
   ],
   "source": [
    "simulate(current=cnt.SteadyCurrent(value=4))\n"
   ]
  },
  {
   "cell_type": "code",
   "execution_count": null,
   "metadata": {},
   "outputs": [
    {
     "ename": "",
     "evalue": "",
     "output_type": "error",
     "traceback": [
      "\u001b[1;31mRunning cells with 'CNSVEnv' requires the ipykernel package.\n",
      "\u001b[1;31mRun the following command to install 'ipykernel' into the Python environment. \n",
      "\u001b[1;31mCommand: '\"/Users/amirali/Library/Mobile Documents/com~apple~CloudDocs/Me/University/Term 8/CNS/HomeWork/CNSVEnv/bin/python\" -m pip install ipykernel -U --force-reinstall'"
     ]
    }
   ],
   "source": [
    "simulate()\n"
   ]
  },
  {
   "cell_type": "code",
   "execution_count": null,
   "metadata": {},
   "outputs": [
    {
     "ename": "",
     "evalue": "",
     "output_type": "error",
     "traceback": [
      "\u001b[1;31mRunning cells with 'CNSVEnv' requires the ipykernel package.\n",
      "\u001b[1;31mRun the following command to install 'ipykernel' into the Python environment. \n",
      "\u001b[1;31mCommand: '\"/Users/amirali/Library/Mobile Documents/com~apple~CloudDocs/Me/University/Term 8/CNS/HomeWork/CNSVEnv/bin/python\" -m pip install ipykernel -U --force-reinstall'"
     ]
    }
   ],
   "source": [
    "simulate(current=cnt.SteadyCurrent(value=8))\n"
   ]
  },
  {
   "cell_type": "markdown",
   "metadata": {},
   "source": [
    "####  A - 1 - LIF - Noised"
   ]
  },
  {
   "cell_type": "code",
   "execution_count": null,
   "metadata": {},
   "outputs": [
    {
     "ename": "",
     "evalue": "",
     "output_type": "error",
     "traceback": [
      "\u001b[1;31mRunning cells with 'CNSVEnv' requires the ipykernel package.\n",
      "\u001b[1;31mRun the following command to install 'ipykernel' into the Python environment. \n",
      "\u001b[1;31mCommand: '\"/Users/amirali/Library/Mobile Documents/com~apple~CloudDocs/Me/University/Term 8/CNS/HomeWork/CNSVEnv/bin/python\" -m pip install ipykernel -U --force-reinstall'"
     ]
    }
   ],
   "source": [
    "simulate(current=cnt.SteadyCurrent(value=2, noise_range=1))"
   ]
  },
  {
   "cell_type": "code",
   "execution_count": null,
   "metadata": {},
   "outputs": [
    {
     "ename": "",
     "evalue": "",
     "output_type": "error",
     "traceback": [
      "\u001b[1;31mRunning cells with 'CNSVEnv' requires the ipykernel package.\n",
      "\u001b[1;31mRun the following command to install 'ipykernel' into the Python environment. \n",
      "\u001b[1;31mCommand: '\"/Users/amirali/Library/Mobile Documents/com~apple~CloudDocs/Me/University/Term 8/CNS/HomeWork/CNSVEnv/bin/python\" -m pip install ipykernel -U --force-reinstall'"
     ]
    }
   ],
   "source": [
    "simulate(current=cnt.SteadyCurrent(value=4, noise_range=1))\n"
   ]
  },
  {
   "cell_type": "code",
   "execution_count": null,
   "metadata": {},
   "outputs": [
    {
     "ename": "",
     "evalue": "",
     "output_type": "error",
     "traceback": [
      "\u001b[1;31mRunning cells with 'CNSVEnv' requires the ipykernel package.\n",
      "\u001b[1;31mRun the following command to install 'ipykernel' into the Python environment. \n",
      "\u001b[1;31mCommand: '\"/Users/amirali/Library/Mobile Documents/com~apple~CloudDocs/Me/University/Term 8/CNS/HomeWork/CNSVEnv/bin/python\" -m pip install ipykernel -U --force-reinstall'"
     ]
    }
   ],
   "source": [
    "simulate(current=cnt.SteadyCurrent(value=6, noise_range=1))\n"
   ]
  },
  {
   "cell_type": "code",
   "execution_count": null,
   "metadata": {},
   "outputs": [
    {
     "ename": "",
     "evalue": "",
     "output_type": "error",
     "traceback": [
      "\u001b[1;31mRunning cells with 'CNSVEnv' requires the ipykernel package.\n",
      "\u001b[1;31mRun the following command to install 'ipykernel' into the Python environment. \n",
      "\u001b[1;31mCommand: '\"/Users/amirali/Library/Mobile Documents/com~apple~CloudDocs/Me/University/Term 8/CNS/HomeWork/CNSVEnv/bin/python\" -m pip install ipykernel -U --force-reinstall'"
     ]
    }
   ],
   "source": [
    "simulate(current=cnt.SteadyCurrent(value=8, noise_range=1))\n"
   ]
  },
  {
   "cell_type": "markdown",
   "metadata": {},
   "source": [
    "### -"
   ]
  },
  {
   "cell_type": "markdown",
   "metadata": {},
   "source": [
    "### A - 1 - ELIF"
   ]
  },
  {
   "cell_type": "markdown",
   "metadata": {},
   "source": [
    "#### A - 1 - ELIF"
   ]
  },
  {
   "cell_type": "code",
   "execution_count": null,
   "metadata": {},
   "outputs": [
    {
     "ename": "",
     "evalue": "",
     "output_type": "error",
     "traceback": [
      "\u001b[1;31mRunning cells with 'CNSVEnv' requires the ipykernel package.\n",
      "\u001b[1;31mRun the following command to install 'ipykernel' into the Python environment. \n",
      "\u001b[1;31mCommand: '\"/Users/amirali/Library/Mobile Documents/com~apple~CloudDocs/Me/University/Term 8/CNS/HomeWork/CNSVEnv/bin/python\" -m pip install ipykernel -U --force-reinstall'"
     ]
    }
   ],
   "source": [
    "simulate(model=mdl.ELIF(u_rh=-50), current=cnt.SteadyCurrent(value=2), title=\"A-1-ELIF\")"
   ]
  },
  {
   "cell_type": "code",
   "execution_count": null,
   "metadata": {},
   "outputs": [
    {
     "ename": "",
     "evalue": "",
     "output_type": "error",
     "traceback": [
      "\u001b[1;31mRunning cells with 'CNSVEnv' requires the ipykernel package.\n",
      "\u001b[1;31mRun the following command to install 'ipykernel' into the Python environment. \n",
      "\u001b[1;31mCommand: '\"/Users/amirali/Library/Mobile Documents/com~apple~CloudDocs/Me/University/Term 8/CNS/HomeWork/CNSVEnv/bin/python\" -m pip install ipykernel -U --force-reinstall'"
     ]
    }
   ],
   "source": [
    "simulate(model=mdl.ELIF(u_rh=-50), current=cnt.SteadyCurrent(value=7), title=\"A-ELIF\")\n"
   ]
  },
  {
   "cell_type": "code",
   "execution_count": null,
   "metadata": {},
   "outputs": [
    {
     "ename": "",
     "evalue": "",
     "output_type": "error",
     "traceback": [
      "\u001b[1;31mRunning cells with 'CNSVEnv' requires the ipykernel package.\n",
      "\u001b[1;31mRun the following command to install 'ipykernel' into the Python environment. \n",
      "\u001b[1;31mCommand: '\"/Users/amirali/Library/Mobile Documents/com~apple~CloudDocs/Me/University/Term 8/CNS/HomeWork/CNSVEnv/bin/python\" -m pip install ipykernel -U --force-reinstall'"
     ]
    }
   ],
   "source": [
    "simulate(model=mdl.ELIF(u_rh=-50), current=cnt.SteadyCurrent(value=9), title=\"A-ELIF\")\n"
   ]
  },
  {
   "cell_type": "code",
   "execution_count": null,
   "metadata": {},
   "outputs": [
    {
     "ename": "",
     "evalue": "",
     "output_type": "error",
     "traceback": [
      "\u001b[1;31mRunning cells with 'CNSVEnv' requires the ipykernel package.\n",
      "\u001b[1;31mRun the following command to install 'ipykernel' into the Python environment. \n",
      "\u001b[1;31mCommand: '\"/Users/amirali/Library/Mobile Documents/com~apple~CloudDocs/Me/University/Term 8/CNS/HomeWork/CNSVEnv/bin/python\" -m pip install ipykernel -U --force-reinstall'"
     ]
    }
   ],
   "source": [
    "simulate(model=mdl.ELIF(u_rh=-50), current=cnt.SteadyCurrent(value=12), title=\"A-ELIF\")\n"
   ]
  },
  {
   "cell_type": "markdown",
   "metadata": {},
   "source": [
    "#### A - 1 - ELIF - Noised"
   ]
  },
  {
   "cell_type": "code",
   "execution_count": null,
   "metadata": {},
   "outputs": [
    {
     "ename": "",
     "evalue": "",
     "output_type": "error",
     "traceback": [
      "\u001b[1;31mRunning cells with 'CNSVEnv' requires the ipykernel package.\n",
      "\u001b[1;31mRun the following command to install 'ipykernel' into the Python environment. \n",
      "\u001b[1;31mCommand: '\"/Users/amirali/Library/Mobile Documents/com~apple~CloudDocs/Me/University/Term 8/CNS/HomeWork/CNSVEnv/bin/python\" -m pip install ipykernel -U --force-reinstall'"
     ]
    }
   ],
   "source": [
    "simulate(model=mdl.ELIF(u_rh=-50), current=cnt.SteadyCurrent(value=2, noise_range=1), title=\"A-ELIF\")"
   ]
  },
  {
   "cell_type": "code",
   "execution_count": null,
   "metadata": {},
   "outputs": [
    {
     "ename": "",
     "evalue": "",
     "output_type": "error",
     "traceback": [
      "\u001b[1;31mRunning cells with 'CNSVEnv' requires the ipykernel package.\n",
      "\u001b[1;31mRun the following command to install 'ipykernel' into the Python environment. \n",
      "\u001b[1;31mCommand: '\"/Users/amirali/Library/Mobile Documents/com~apple~CloudDocs/Me/University/Term 8/CNS/HomeWork/CNSVEnv/bin/python\" -m pip install ipykernel -U --force-reinstall'"
     ]
    }
   ],
   "source": [
    "simulate(model=mdl.ELIF(u_rh=-50), current=cnt.SteadyCurrent(value=7, noise_range=1), title=\"A-ELIF\")\n"
   ]
  },
  {
   "cell_type": "code",
   "execution_count": null,
   "metadata": {},
   "outputs": [
    {
     "ename": "",
     "evalue": "",
     "output_type": "error",
     "traceback": [
      "\u001b[1;31mRunning cells with 'CNSVEnv' requires the ipykernel package.\n",
      "\u001b[1;31mRun the following command to install 'ipykernel' into the Python environment. \n",
      "\u001b[1;31mCommand: '\"/Users/amirali/Library/Mobile Documents/com~apple~CloudDocs/Me/University/Term 8/CNS/HomeWork/CNSVEnv/bin/python\" -m pip install ipykernel -U --force-reinstall'"
     ]
    }
   ],
   "source": [
    "simulate(model=mdl.ELIF(u_rh=-50), current=cnt.SteadyCurrent(value=9, noise_range=1), title=\"A-ELIF\")\n"
   ]
  },
  {
   "cell_type": "code",
   "execution_count": null,
   "metadata": {},
   "outputs": [
    {
     "ename": "",
     "evalue": "",
     "output_type": "error",
     "traceback": [
      "\u001b[1;31mRunning cells with 'CNSVEnv' requires the ipykernel package.\n",
      "\u001b[1;31mRun the following command to install 'ipykernel' into the Python environment. \n",
      "\u001b[1;31mCommand: '\"/Users/amirali/Library/Mobile Documents/com~apple~CloudDocs/Me/University/Term 8/CNS/HomeWork/CNSVEnv/bin/python\" -m pip install ipykernel -U --force-reinstall'"
     ]
    }
   ],
   "source": [
    "simulate(model=mdl.ELIF(u_rh=-50), current=cnt.SteadyCurrent(value=12, noise_range=1), title=\"A-ELIF\")"
   ]
  },
  {
   "cell_type": "markdown",
   "metadata": {},
   "source": [
    "### -"
   ]
  },
  {
   "cell_type": "markdown",
   "metadata": {},
   "source": [
    "### A - 1 - AELIF"
   ]
  },
  {
   "cell_type": "markdown",
   "metadata": {},
   "source": [
    "#### A - 1 - AELIF"
   ]
  },
  {
   "cell_type": "code",
   "execution_count": null,
   "metadata": {},
   "outputs": [
    {
     "ename": "",
     "evalue": "",
     "output_type": "error",
     "traceback": [
      "\u001b[1;31mRunning cells with 'CNSVEnv' requires the ipykernel package.\n",
      "\u001b[1;31mRun the following command to install 'ipykernel' into the Python environment. \n",
      "\u001b[1;31mCommand: '\"/Users/amirali/Library/Mobile Documents/com~apple~CloudDocs/Me/University/Term 8/CNS/HomeWork/CNSVEnv/bin/python\" -m pip install ipykernel -U --force-reinstall'"
     ]
    }
   ],
   "source": [
    "title = \"A-1-AELIF\""
   ]
  },
  {
   "cell_type": "code",
   "execution_count": null,
   "metadata": {},
   "outputs": [
    {
     "ename": "",
     "evalue": "",
     "output_type": "error",
     "traceback": [
      "\u001b[1;31mRunning cells with 'CNSVEnv' requires the ipykernel package.\n",
      "\u001b[1;31mRun the following command to install 'ipykernel' into the Python environment. \n",
      "\u001b[1;31mCommand: '\"/Users/amirali/Library/Mobile Documents/com~apple~CloudDocs/Me/University/Term 8/CNS/HomeWork/CNSVEnv/bin/python\" -m pip install ipykernel -U --force-reinstall'"
     ]
    }
   ],
   "source": [
    "simulate(model=mdl.AELIF(u_rh=-50,tau_w=100,b=0.01,a=10), current=cnt.SteadyCurrent(value=0), title=title)"
   ]
  },
  {
   "cell_type": "code",
   "execution_count": null,
   "metadata": {},
   "outputs": [
    {
     "ename": "",
     "evalue": "",
     "output_type": "error",
     "traceback": [
      "\u001b[1;31mRunning cells with 'CNSVEnv' requires the ipykernel package.\n",
      "\u001b[1;31mRun the following command to install 'ipykernel' into the Python environment. \n",
      "\u001b[1;31mCommand: '\"/Users/amirali/Library/Mobile Documents/com~apple~CloudDocs/Me/University/Term 8/CNS/HomeWork/CNSVEnv/bin/python\" -m pip install ipykernel -U --force-reinstall'"
     ]
    }
   ],
   "source": [
    "simulate(model=mdl.AELIF(u_rh=-50,tau_w=100,b=0.01,a=10), current=cnt.SteadyCurrent(value=7), title=title)\n"
   ]
  },
  {
   "cell_type": "code",
   "execution_count": null,
   "metadata": {},
   "outputs": [
    {
     "ename": "",
     "evalue": "",
     "output_type": "error",
     "traceback": [
      "\u001b[1;31mRunning cells with 'CNSVEnv' requires the ipykernel package.\n",
      "\u001b[1;31mRun the following command to install 'ipykernel' into the Python environment. \n",
      "\u001b[1;31mCommand: '\"/Users/amirali/Library/Mobile Documents/com~apple~CloudDocs/Me/University/Term 8/CNS/HomeWork/CNSVEnv/bin/python\" -m pip install ipykernel -U --force-reinstall'"
     ]
    }
   ],
   "source": [
    "simulate(model=mdl.AELIF(u_rh=-50,tau_w=100,b=0.01,a=10), current=cnt.SteadyCurrent(value=50), title=title)\n"
   ]
  },
  {
   "cell_type": "code",
   "execution_count": null,
   "metadata": {},
   "outputs": [
    {
     "ename": "",
     "evalue": "",
     "output_type": "error",
     "traceback": [
      "\u001b[1;31mRunning cells with 'CNSVEnv' requires the ipykernel package.\n",
      "\u001b[1;31mRun the following command to install 'ipykernel' into the Python environment. \n",
      "\u001b[1;31mCommand: '\"/Users/amirali/Library/Mobile Documents/com~apple~CloudDocs/Me/University/Term 8/CNS/HomeWork/CNSVEnv/bin/python\" -m pip install ipykernel -U --force-reinstall'"
     ]
    }
   ],
   "source": [
    "simulate(model=mdl.AELIF(u_rh=-50,tau_w=100,b=0.01,a=10), current=cnt.SteadyCurrent(value=108), title=title)\n"
   ]
  },
  {
   "cell_type": "markdown",
   "metadata": {},
   "source": [
    "#### A - 1  AELIF - Noised"
   ]
  },
  {
   "cell_type": "code",
   "execution_count": null,
   "metadata": {},
   "outputs": [
    {
     "ename": "",
     "evalue": "",
     "output_type": "error",
     "traceback": [
      "\u001b[1;31mRunning cells with 'CNSVEnv' requires the ipykernel package.\n",
      "\u001b[1;31mRun the following command to install 'ipykernel' into the Python environment. \n",
      "\u001b[1;31mCommand: '\"/Users/amirali/Library/Mobile Documents/com~apple~CloudDocs/Me/University/Term 8/CNS/HomeWork/CNSVEnv/bin/python\" -m pip install ipykernel -U --force-reinstall'"
     ]
    }
   ],
   "source": [
    "title = \"A-1-AELIF-Noised\""
   ]
  },
  {
   "cell_type": "code",
   "execution_count": null,
   "metadata": {},
   "outputs": [
    {
     "ename": "",
     "evalue": "",
     "output_type": "error",
     "traceback": [
      "\u001b[1;31mRunning cells with 'CNSVEnv' requires the ipykernel package.\n",
      "\u001b[1;31mRun the following command to install 'ipykernel' into the Python environment. \n",
      "\u001b[1;31mCommand: '\"/Users/amirali/Library/Mobile Documents/com~apple~CloudDocs/Me/University/Term 8/CNS/HomeWork/CNSVEnv/bin/python\" -m pip install ipykernel -U --force-reinstall'"
     ]
    }
   ],
   "source": [
    "simulate(model=mdl.AELIF(u_rh=-50,tau_w=100,b=0.01,a=10), current=cnt.SteadyCurrent(value=0, noise_range=1), title=title)"
   ]
  },
  {
   "cell_type": "code",
   "execution_count": null,
   "metadata": {},
   "outputs": [
    {
     "ename": "",
     "evalue": "",
     "output_type": "error",
     "traceback": [
      "\u001b[1;31mRunning cells with 'CNSVEnv' requires the ipykernel package.\n",
      "\u001b[1;31mRun the following command to install 'ipykernel' into the Python environment. \n",
      "\u001b[1;31mCommand: '\"/Users/amirali/Library/Mobile Documents/com~apple~CloudDocs/Me/University/Term 8/CNS/HomeWork/CNSVEnv/bin/python\" -m pip install ipykernel -U --force-reinstall'"
     ]
    }
   ],
   "source": [
    "simulate(model=mdl.AELIF(u_rh=-50,tau_w=100,b=0.01,a=10,), current=cnt.SteadyCurrent(value=7, noise_range=1), title=title)\n"
   ]
  },
  {
   "cell_type": "markdown",
   "metadata": {},
   "source": [
    "increasing tau_w to reduce noise effect"
   ]
  },
  {
   "cell_type": "code",
   "execution_count": null,
   "metadata": {},
   "outputs": [
    {
     "ename": "",
     "evalue": "",
     "output_type": "error",
     "traceback": [
      "\u001b[1;31mRunning cells with 'CNSVEnv' requires the ipykernel package.\n",
      "\u001b[1;31mRun the following command to install 'ipykernel' into the Python environment. \n",
      "\u001b[1;31mCommand: '\"/Users/amirali/Library/Mobile Documents/com~apple~CloudDocs/Me/University/Term 8/CNS/HomeWork/CNSVEnv/bin/python\" -m pip install ipykernel -U --force-reinstall'"
     ]
    }
   ],
   "source": [
    "simulate(model=mdl.AELIF(u_rh=-50,tau_w=1000,b=0.01,a=10,), current=cnt.SteadyCurrent(value=7, noise_range=1), title=title)\n"
   ]
  },
  {
   "cell_type": "code",
   "execution_count": null,
   "metadata": {},
   "outputs": [
    {
     "ename": "",
     "evalue": "",
     "output_type": "error",
     "traceback": [
      "\u001b[1;31mRunning cells with 'CNSVEnv' requires the ipykernel package.\n",
      "\u001b[1;31mRun the following command to install 'ipykernel' into the Python environment. \n",
      "\u001b[1;31mCommand: '\"/Users/amirali/Library/Mobile Documents/com~apple~CloudDocs/Me/University/Term 8/CNS/HomeWork/CNSVEnv/bin/python\" -m pip install ipykernel -U --force-reinstall'"
     ]
    }
   ],
   "source": [
    "simulate(model=mdl.AELIF(u_rh=-50,tau_w=100,b=0.01,a=10), current=cnt.SteadyCurrent(value=50, noise_range=1), title=title)\n"
   ]
  },
  {
   "cell_type": "code",
   "execution_count": null,
   "metadata": {},
   "outputs": [
    {
     "ename": "",
     "evalue": "",
     "output_type": "error",
     "traceback": [
      "\u001b[1;31mRunning cells with 'CNSVEnv' requires the ipykernel package.\n",
      "\u001b[1;31mRun the following command to install 'ipykernel' into the Python environment. \n",
      "\u001b[1;31mCommand: '\"/Users/amirali/Library/Mobile Documents/com~apple~CloudDocs/Me/University/Term 8/CNS/HomeWork/CNSVEnv/bin/python\" -m pip install ipykernel -U --force-reinstall'"
     ]
    }
   ],
   "source": [
    "simulate(model=mdl.AELIF(u_rh=-50,tau_w=100,b=0.01,a=10), current=cnt.SteadyCurrent(value=108, noise_range=1), title=title)\n"
   ]
  },
  {
   "cell_type": "markdown",
   "metadata": {},
   "source": [
    "### -"
   ]
  },
  {
   "cell_type": "markdown",
   "metadata": {},
   "source": [
    "## -"
   ]
  },
  {
   "cell_type": "markdown",
   "metadata": {},
   "source": [
    "## StepFunctionCurrent"
   ]
  },
  {
   "cell_type": "markdown",
   "metadata": {},
   "source": [
    "### A - 2 - LIF"
   ]
  },
  {
   "cell_type": "markdown",
   "metadata": {},
   "source": [
    "#### A - 2 - LIF"
   ]
  },
  {
   "cell_type": "code",
   "execution_count": null,
   "metadata": {},
   "outputs": [
    {
     "ename": "",
     "evalue": "",
     "output_type": "error",
     "traceback": [
      "\u001b[1;31mRunning cells with 'CNSVEnv' requires the ipykernel package.\n",
      "\u001b[1;31mRun the following command to install 'ipykernel' into the Python environment. \n",
      "\u001b[1;31mCommand: '\"/Users/amirali/Library/Mobile Documents/com~apple~CloudDocs/Me/University/Term 8/CNS/HomeWork/CNSVEnv/bin/python\" -m pip install ipykernel -U --force-reinstall'"
     ]
    }
   ],
   "source": [
    "title = \"A-2-LIF\""
   ]
  },
  {
   "cell_type": "code",
   "execution_count": null,
   "metadata": {},
   "outputs": [
    {
     "ename": "",
     "evalue": "",
     "output_type": "error",
     "traceback": [
      "\u001b[1;31mRunning cells with 'CNSVEnv' requires the ipykernel package.\n",
      "\u001b[1;31mRun the following command to install 'ipykernel' into the Python environment. \n",
      "\u001b[1;31mCommand: '\"/Users/amirali/Library/Mobile Documents/com~apple~CloudDocs/Me/University/Term 8/CNS/HomeWork/CNSVEnv/bin/python\" -m pip install ipykernel -U --force-reinstall'"
     ]
    }
   ],
   "source": [
    "simulate(current=cnt.StepCurrent(value=2), title=title)\n"
   ]
  },
  {
   "cell_type": "code",
   "execution_count": null,
   "metadata": {},
   "outputs": [
    {
     "ename": "",
     "evalue": "",
     "output_type": "error",
     "traceback": [
      "\u001b[1;31mRunning cells with 'CNSVEnv' requires the ipykernel package.\n",
      "\u001b[1;31mRun the following command to install 'ipykernel' into the Python environment. \n",
      "\u001b[1;31mCommand: '\"/Users/amirali/Library/Mobile Documents/com~apple~CloudDocs/Me/University/Term 8/CNS/HomeWork/CNSVEnv/bin/python\" -m pip install ipykernel -U --force-reinstall'"
     ]
    }
   ],
   "source": [
    "simulate(current=cnt.StepCurrent(value=6))"
   ]
  },
  {
   "cell_type": "markdown",
   "metadata": {},
   "source": [
    "#### -"
   ]
  },
  {
   "cell_type": "markdown",
   "metadata": {},
   "source": [
    "#### A - 2 - LIF - Noised"
   ]
  },
  {
   "cell_type": "code",
   "execution_count": null,
   "metadata": {},
   "outputs": [
    {
     "ename": "",
     "evalue": "",
     "output_type": "error",
     "traceback": [
      "\u001b[1;31mRunning cells with 'CNSVEnv' requires the ipykernel package.\n",
      "\u001b[1;31mRun the following command to install 'ipykernel' into the Python environment. \n",
      "\u001b[1;31mCommand: '\"/Users/amirali/Library/Mobile Documents/com~apple~CloudDocs/Me/University/Term 8/CNS/HomeWork/CNSVEnv/bin/python\" -m pip install ipykernel -U --force-reinstall'"
     ]
    }
   ],
   "source": [
    "title = \"A-2-LIF-Noised\" \n",
    "noise_range = 1"
   ]
  },
  {
   "cell_type": "code",
   "execution_count": null,
   "metadata": {},
   "outputs": [
    {
     "ename": "",
     "evalue": "",
     "output_type": "error",
     "traceback": [
      "\u001b[1;31mRunning cells with 'CNSVEnv' requires the ipykernel package.\n",
      "\u001b[1;31mRun the following command to install 'ipykernel' into the Python environment. \n",
      "\u001b[1;31mCommand: '\"/Users/amirali/Library/Mobile Documents/com~apple~CloudDocs/Me/University/Term 8/CNS/HomeWork/CNSVEnv/bin/python\" -m pip install ipykernel -U --force-reinstall'"
     ]
    }
   ],
   "source": [
    "simulate(current=cnt.StepCurrent(value=2, noise_range=noise_range), title=title)\n"
   ]
  },
  {
   "cell_type": "code",
   "execution_count": null,
   "metadata": {},
   "outputs": [
    {
     "ename": "",
     "evalue": "",
     "output_type": "error",
     "traceback": [
      "\u001b[1;31mRunning cells with 'CNSVEnv' requires the ipykernel package.\n",
      "\u001b[1;31mRun the following command to install 'ipykernel' into the Python environment. \n",
      "\u001b[1;31mCommand: '\"/Users/amirali/Library/Mobile Documents/com~apple~CloudDocs/Me/University/Term 8/CNS/HomeWork/CNSVEnv/bin/python\" -m pip install ipykernel -U --force-reinstall'"
     ]
    }
   ],
   "source": [
    "simulate(current=cnt.StepCurrent(value=6, noise_range=noise_range))"
   ]
  },
  {
   "cell_type": "markdown",
   "metadata": {},
   "source": [
    "#### -"
   ]
  },
  {
   "cell_type": "markdown",
   "metadata": {},
   "source": [
    "### -"
   ]
  },
  {
   "cell_type": "markdown",
   "metadata": {},
   "source": [
    "### A - 2 - ELIF"
   ]
  },
  {
   "cell_type": "markdown",
   "metadata": {},
   "source": [
    "#### A - 2 - ELIF"
   ]
  },
  {
   "cell_type": "code",
   "execution_count": null,
   "metadata": {},
   "outputs": [
    {
     "ename": "",
     "evalue": "",
     "output_type": "error",
     "traceback": [
      "\u001b[1;31mRunning cells with 'CNSVEnv' requires the ipykernel package.\n",
      "\u001b[1;31mRun the following command to install 'ipykernel' into the Python environment. \n",
      "\u001b[1;31mCommand: '\"/Users/amirali/Library/Mobile Documents/com~apple~CloudDocs/Me/University/Term 8/CNS/HomeWork/CNSVEnv/bin/python\" -m pip install ipykernel -U --force-reinstall'"
     ]
    }
   ],
   "source": [
    "title = \"A-2-ELIF\""
   ]
  },
  {
   "cell_type": "code",
   "execution_count": null,
   "metadata": {},
   "outputs": [
    {
     "ename": "",
     "evalue": "",
     "output_type": "error",
     "traceback": [
      "\u001b[1;31mRunning cells with 'CNSVEnv' requires the ipykernel package.\n",
      "\u001b[1;31mRun the following command to install 'ipykernel' into the Python environment. \n",
      "\u001b[1;31mCommand: '\"/Users/amirali/Library/Mobile Documents/com~apple~CloudDocs/Me/University/Term 8/CNS/HomeWork/CNSVEnv/bin/python\" -m pip install ipykernel -U --force-reinstall'"
     ]
    }
   ],
   "source": [
    "simulate(model=mdl.ELIF(u_rh=-50),current=cnt.StepCurrent(value=3))\n"
   ]
  },
  {
   "cell_type": "code",
   "execution_count": null,
   "metadata": {},
   "outputs": [
    {
     "ename": "",
     "evalue": "",
     "output_type": "error",
     "traceback": [
      "\u001b[1;31mRunning cells with 'CNSVEnv' requires the ipykernel package.\n",
      "\u001b[1;31mRun the following command to install 'ipykernel' into the Python environment. \n",
      "\u001b[1;31mCommand: '\"/Users/amirali/Library/Mobile Documents/com~apple~CloudDocs/Me/University/Term 8/CNS/HomeWork/CNSVEnv/bin/python\" -m pip install ipykernel -U --force-reinstall'"
     ]
    }
   ],
   "source": [
    "simulate(model=mdl.ELIF(u_rh=-50),current=cnt.StepCurrent(value=9))\n"
   ]
  },
  {
   "cell_type": "markdown",
   "metadata": {},
   "source": [
    "#### -"
   ]
  },
  {
   "cell_type": "markdown",
   "metadata": {},
   "source": [
    "#### A - 2 - ELIF - Noised"
   ]
  },
  {
   "cell_type": "code",
   "execution_count": null,
   "metadata": {},
   "outputs": [
    {
     "ename": "",
     "evalue": "",
     "output_type": "error",
     "traceback": [
      "\u001b[1;31mRunning cells with 'CNSVEnv' requires the ipykernel package.\n",
      "\u001b[1;31mRun the following command to install 'ipykernel' into the Python environment. \n",
      "\u001b[1;31mCommand: '\"/Users/amirali/Library/Mobile Documents/com~apple~CloudDocs/Me/University/Term 8/CNS/HomeWork/CNSVEnv/bin/python\" -m pip install ipykernel -U --force-reinstall'"
     ]
    }
   ],
   "source": [
    "title = \"A-2-ELIF-noised\"\n",
    "noise_range = 1"
   ]
  },
  {
   "cell_type": "code",
   "execution_count": null,
   "metadata": {},
   "outputs": [
    {
     "ename": "",
     "evalue": "",
     "output_type": "error",
     "traceback": [
      "\u001b[1;31mRunning cells with 'CNSVEnv' requires the ipykernel package.\n",
      "\u001b[1;31mRun the following command to install 'ipykernel' into the Python environment. \n",
      "\u001b[1;31mCommand: '\"/Users/amirali/Library/Mobile Documents/com~apple~CloudDocs/Me/University/Term 8/CNS/HomeWork/CNSVEnv/bin/python\" -m pip install ipykernel -U --force-reinstall'"
     ]
    }
   ],
   "source": [
    "simulate(model=mdl.ELIF(u_rh=-50),current=cnt.StepCurrent(value=3, noise_range=noise_range))\n"
   ]
  },
  {
   "cell_type": "code",
   "execution_count": null,
   "metadata": {},
   "outputs": [
    {
     "ename": "",
     "evalue": "",
     "output_type": "error",
     "traceback": [
      "\u001b[1;31mRunning cells with 'CNSVEnv' requires the ipykernel package.\n",
      "\u001b[1;31mRun the following command to install 'ipykernel' into the Python environment. \n",
      "\u001b[1;31mCommand: '\"/Users/amirali/Library/Mobile Documents/com~apple~CloudDocs/Me/University/Term 8/CNS/HomeWork/CNSVEnv/bin/python\" -m pip install ipykernel -U --force-reinstall'"
     ]
    }
   ],
   "source": [
    "simulate(model=mdl.ELIF(u_rh=-50),current=cnt.StepCurrent(value=9, noise_range=noise_range))\n"
   ]
  },
  {
   "cell_type": "markdown",
   "metadata": {},
   "source": [
    "#### -"
   ]
  },
  {
   "cell_type": "markdown",
   "metadata": {},
   "source": [
    "### -"
   ]
  },
  {
   "cell_type": "markdown",
   "metadata": {},
   "source": [
    "### A - 2 - AELIF"
   ]
  },
  {
   "cell_type": "markdown",
   "metadata": {},
   "source": [
    "#### A - 2 - AELIF"
   ]
  },
  {
   "cell_type": "code",
   "execution_count": null,
   "metadata": {},
   "outputs": [
    {
     "ename": "",
     "evalue": "",
     "output_type": "error",
     "traceback": [
      "\u001b[1;31mRunning cells with 'CNSVEnv' requires the ipykernel package.\n",
      "\u001b[1;31mRun the following command to install 'ipykernel' into the Python environment. \n",
      "\u001b[1;31mCommand: '\"/Users/amirali/Library/Mobile Documents/com~apple~CloudDocs/Me/University/Term 8/CNS/HomeWork/CNSVEnv/bin/python\" -m pip install ipykernel -U --force-reinstall'"
     ]
    }
   ],
   "source": [
    "title = \"A-2-AELIF\"\n",
    "noise_range=0"
   ]
  },
  {
   "cell_type": "code",
   "execution_count": null,
   "metadata": {},
   "outputs": [
    {
     "ename": "",
     "evalue": "",
     "output_type": "error",
     "traceback": [
      "\u001b[1;31mRunning cells with 'CNSVEnv' requires the ipykernel package.\n",
      "\u001b[1;31mRun the following command to install 'ipykernel' into the Python environment. \n",
      "\u001b[1;31mCommand: '\"/Users/amirali/Library/Mobile Documents/com~apple~CloudDocs/Me/University/Term 8/CNS/HomeWork/CNSVEnv/bin/python\" -m pip install ipykernel -U --force-reinstall'"
     ]
    }
   ],
   "source": [
    "simulate(model=mdl.AELIF(u_rh=-50,tau_w=50,b=0.01), current=cnt.StepCurrent(value=5, noise_range=noise_range), title=title)\n"
   ]
  },
  {
   "cell_type": "code",
   "execution_count": null,
   "metadata": {},
   "outputs": [
    {
     "ename": "",
     "evalue": "",
     "output_type": "error",
     "traceback": [
      "\u001b[1;31mRunning cells with 'CNSVEnv' requires the ipykernel package.\n",
      "\u001b[1;31mRun the following command to install 'ipykernel' into the Python environment. \n",
      "\u001b[1;31mCommand: '\"/Users/amirali/Library/Mobile Documents/com~apple~CloudDocs/Me/University/Term 8/CNS/HomeWork/CNSVEnv/bin/python\" -m pip install ipykernel -U --force-reinstall'"
     ]
    }
   ],
   "source": [
    "simulate(model=mdl.AELIF(u_rh=-50,tau_w=50,b=0.01), current=cnt.StepCurrent(value=18, noise_range=noise_range), title=title)\n"
   ]
  },
  {
   "cell_type": "markdown",
   "metadata": {},
   "source": [
    "#### -"
   ]
  },
  {
   "cell_type": "markdown",
   "metadata": {},
   "source": [
    "#### A - 2 - AELIF - Noised"
   ]
  },
  {
   "cell_type": "code",
   "execution_count": null,
   "metadata": {},
   "outputs": [
    {
     "ename": "",
     "evalue": "",
     "output_type": "error",
     "traceback": [
      "\u001b[1;31mRunning cells with 'CNSVEnv' requires the ipykernel package.\n",
      "\u001b[1;31mRun the following command to install 'ipykernel' into the Python environment. \n",
      "\u001b[1;31mCommand: '\"/Users/amirali/Library/Mobile Documents/com~apple~CloudDocs/Me/University/Term 8/CNS/HomeWork/CNSVEnv/bin/python\" -m pip install ipykernel -U --force-reinstall'"
     ]
    }
   ],
   "source": [
    "title = \"A-2-AELIF-noised\"\n",
    "noise_range = 1"
   ]
  },
  {
   "cell_type": "code",
   "execution_count": null,
   "metadata": {},
   "outputs": [
    {
     "ename": "",
     "evalue": "",
     "output_type": "error",
     "traceback": [
      "\u001b[1;31mRunning cells with 'CNSVEnv' requires the ipykernel package.\n",
      "\u001b[1;31mRun the following command to install 'ipykernel' into the Python environment. \n",
      "\u001b[1;31mCommand: '\"/Users/amirali/Library/Mobile Documents/com~apple~CloudDocs/Me/University/Term 8/CNS/HomeWork/CNSVEnv/bin/python\" -m pip install ipykernel -U --force-reinstall'"
     ]
    }
   ],
   "source": [
    "simulate(model=mdl.AELIF(u_rh=-50,tau_w=50,b=0.01), current=cnt.StepCurrent(value=5, noise_range=noise_range), title=title)\n"
   ]
  },
  {
   "cell_type": "code",
   "execution_count": null,
   "metadata": {},
   "outputs": [
    {
     "ename": "",
     "evalue": "",
     "output_type": "error",
     "traceback": [
      "\u001b[1;31mRunning cells with 'CNSVEnv' requires the ipykernel package.\n",
      "\u001b[1;31mRun the following command to install 'ipykernel' into the Python environment. \n",
      "\u001b[1;31mCommand: '\"/Users/amirali/Library/Mobile Documents/com~apple~CloudDocs/Me/University/Term 8/CNS/HomeWork/CNSVEnv/bin/python\" -m pip install ipykernel -U --force-reinstall'"
     ]
    }
   ],
   "source": [
    "simulate(model=mdl.AELIF(u_rh=-50,tau_w=50,b=0.01), current=cnt.StepCurrent(value=18, noise_range=noise_range), title=title)\n"
   ]
  },
  {
   "cell_type": "markdown",
   "metadata": {},
   "source": [
    "#### -"
   ]
  },
  {
   "cell_type": "markdown",
   "metadata": {},
   "source": [
    "### -"
   ]
  },
  {
   "cell_type": "markdown",
   "metadata": {},
   "source": [
    "## -"
   ]
  },
  {
   "cell_type": "markdown",
   "metadata": {},
   "source": [
    "## SinCurrent"
   ]
  },
  {
   "cell_type": "markdown",
   "metadata": {},
   "source": [
    "### A - 3 - LIF"
   ]
  },
  {
   "cell_type": "markdown",
   "metadata": {},
   "source": [
    "#### A - 3 - LIF"
   ]
  },
  {
   "cell_type": "code",
   "execution_count": null,
   "metadata": {},
   "outputs": [
    {
     "ename": "",
     "evalue": "",
     "output_type": "error",
     "traceback": [
      "\u001b[1;31mRunning cells with 'CNSVEnv' requires the ipykernel package.\n",
      "\u001b[1;31mRun the following command to install 'ipykernel' into the Python environment. \n",
      "\u001b[1;31mCommand: '\"/Users/amirali/Library/Mobile Documents/com~apple~CloudDocs/Me/University/Term 8/CNS/HomeWork/CNSVEnv/bin/python\" -m pip install ipykernel -U --force-reinstall'"
     ]
    }
   ],
   "source": [
    "title = \"A-3-LIF\"\n",
    "noise_range= 0"
   ]
  },
  {
   "cell_type": "code",
   "execution_count": null,
   "metadata": {},
   "outputs": [
    {
     "ename": "",
     "evalue": "",
     "output_type": "error",
     "traceback": [
      "\u001b[1;31mRunning cells with 'CNSVEnv' requires the ipykernel package.\n",
      "\u001b[1;31mRun the following command to install 'ipykernel' into the Python environment. \n",
      "\u001b[1;31mCommand: '\"/Users/amirali/Library/Mobile Documents/com~apple~CloudDocs/Me/University/Term 8/CNS/HomeWork/CNSVEnv/bin/python\" -m pip install ipykernel -U --force-reinstall'"
     ]
    }
   ],
   "source": [
    "simulate(current=cnt.SinCurrent(value=6,stretch_variable=10, noise_range=noise_range), title=title)\n"
   ]
  },
  {
   "cell_type": "code",
   "execution_count": null,
   "metadata": {},
   "outputs": [
    {
     "ename": "",
     "evalue": "",
     "output_type": "error",
     "traceback": [
      "\u001b[1;31mRunning cells with 'CNSVEnv' requires the ipykernel package.\n",
      "\u001b[1;31mRun the following command to install 'ipykernel' into the Python environment. \n",
      "\u001b[1;31mCommand: '\"/Users/amirali/Library/Mobile Documents/com~apple~CloudDocs/Me/University/Term 8/CNS/HomeWork/CNSVEnv/bin/python\" -m pip install ipykernel -U --force-reinstall'"
     ]
    }
   ],
   "source": [
    "simulate(current= cnt.SinCurrent(value=13,stretch_variable=10, noise_range=noise_range), title=title)"
   ]
  },
  {
   "cell_type": "code",
   "execution_count": null,
   "metadata": {},
   "outputs": [
    {
     "ename": "",
     "evalue": "",
     "output_type": "error",
     "traceback": [
      "\u001b[1;31mRunning cells with 'CNSVEnv' requires the ipykernel package.\n",
      "\u001b[1;31mRun the following command to install 'ipykernel' into the Python environment. \n",
      "\u001b[1;31mCommand: '\"/Users/amirali/Library/Mobile Documents/com~apple~CloudDocs/Me/University/Term 8/CNS/HomeWork/CNSVEnv/bin/python\" -m pip install ipykernel -U --force-reinstall'"
     ]
    }
   ],
   "source": [
    "simulate(current=cnt.SinCurrent(value=6,stretch_variable=1, noise_range=noise_range), title=title)\n"
   ]
  },
  {
   "cell_type": "code",
   "execution_count": null,
   "metadata": {},
   "outputs": [
    {
     "ename": "",
     "evalue": "",
     "output_type": "error",
     "traceback": [
      "\u001b[1;31mRunning cells with 'CNSVEnv' requires the ipykernel package.\n",
      "\u001b[1;31mRun the following command to install 'ipykernel' into the Python environment. \n",
      "\u001b[1;31mCommand: '\"/Users/amirali/Library/Mobile Documents/com~apple~CloudDocs/Me/University/Term 8/CNS/HomeWork/CNSVEnv/bin/python\" -m pip install ipykernel -U --force-reinstall'"
     ]
    }
   ],
   "source": [
    "simulate(current= cnt.SinCurrent(value=13,stretch_variable=1, noise_range=noise_range), title=title)\n"
   ]
  },
  {
   "cell_type": "markdown",
   "metadata": {},
   "source": [
    "#### -"
   ]
  },
  {
   "cell_type": "markdown",
   "metadata": {},
   "source": [
    "#### A - 3 - LIF - Noised"
   ]
  },
  {
   "cell_type": "code",
   "execution_count": null,
   "metadata": {},
   "outputs": [
    {
     "ename": "",
     "evalue": "",
     "output_type": "error",
     "traceback": [
      "\u001b[1;31mRunning cells with 'CNSVEnv' requires the ipykernel package.\n",
      "\u001b[1;31mRun the following command to install 'ipykernel' into the Python environment. \n",
      "\u001b[1;31mCommand: '\"/Users/amirali/Library/Mobile Documents/com~apple~CloudDocs/Me/University/Term 8/CNS/HomeWork/CNSVEnv/bin/python\" -m pip install ipykernel -U --force-reinstall'"
     ]
    }
   ],
   "source": [
    "title = \"A-3-LIF-Noised\" \n",
    "noise_range = 1"
   ]
  },
  {
   "cell_type": "code",
   "execution_count": null,
   "metadata": {},
   "outputs": [
    {
     "ename": "",
     "evalue": "",
     "output_type": "error",
     "traceback": [
      "\u001b[1;31mRunning cells with 'CNSVEnv' requires the ipykernel package.\n",
      "\u001b[1;31mRun the following command to install 'ipykernel' into the Python environment. \n",
      "\u001b[1;31mCommand: '\"/Users/amirali/Library/Mobile Documents/com~apple~CloudDocs/Me/University/Term 8/CNS/HomeWork/CNSVEnv/bin/python\" -m pip install ipykernel -U --force-reinstall'"
     ]
    }
   ],
   "source": [
    "simulate(current=cnt.SinCurrent(value=6,stretch_variable=10, noise_range=noise_range), title=title)\n"
   ]
  },
  {
   "cell_type": "code",
   "execution_count": null,
   "metadata": {},
   "outputs": [
    {
     "ename": "",
     "evalue": "",
     "output_type": "error",
     "traceback": [
      "\u001b[1;31mRunning cells with 'CNSVEnv' requires the ipykernel package.\n",
      "\u001b[1;31mRun the following command to install 'ipykernel' into the Python environment. \n",
      "\u001b[1;31mCommand: '\"/Users/amirali/Library/Mobile Documents/com~apple~CloudDocs/Me/University/Term 8/CNS/HomeWork/CNSVEnv/bin/python\" -m pip install ipykernel -U --force-reinstall'"
     ]
    }
   ],
   "source": [
    "simulate(current= cnt.SinCurrent(value=13,stretch_variable=10, noise_range=noise_range), title=title)"
   ]
  },
  {
   "cell_type": "code",
   "execution_count": null,
   "metadata": {},
   "outputs": [
    {
     "ename": "",
     "evalue": "",
     "output_type": "error",
     "traceback": [
      "\u001b[1;31mRunning cells with 'CNSVEnv' requires the ipykernel package.\n",
      "\u001b[1;31mRun the following command to install 'ipykernel' into the Python environment. \n",
      "\u001b[1;31mCommand: '\"/Users/amirali/Library/Mobile Documents/com~apple~CloudDocs/Me/University/Term 8/CNS/HomeWork/CNSVEnv/bin/python\" -m pip install ipykernel -U --force-reinstall'"
     ]
    }
   ],
   "source": [
    "simulate(current=cnt.SinCurrent(value=6,stretch_variable=1, noise_range=noise_range), title=title)\n"
   ]
  },
  {
   "cell_type": "code",
   "execution_count": null,
   "metadata": {},
   "outputs": [
    {
     "ename": "",
     "evalue": "",
     "output_type": "error",
     "traceback": [
      "\u001b[1;31mRunning cells with 'CNSVEnv' requires the ipykernel package.\n",
      "\u001b[1;31mRun the following command to install 'ipykernel' into the Python environment. \n",
      "\u001b[1;31mCommand: '\"/Users/amirali/Library/Mobile Documents/com~apple~CloudDocs/Me/University/Term 8/CNS/HomeWork/CNSVEnv/bin/python\" -m pip install ipykernel -U --force-reinstall'"
     ]
    }
   ],
   "source": [
    "simulate(current= cnt.SinCurrent(value=13,stretch_variable=1, noise_range=noise_range), title=title)\n"
   ]
  },
  {
   "cell_type": "markdown",
   "metadata": {},
   "source": [
    "#### -"
   ]
  },
  {
   "cell_type": "markdown",
   "metadata": {},
   "source": [
    "### -"
   ]
  },
  {
   "cell_type": "markdown",
   "metadata": {},
   "source": [
    "### A - 3 - ELIF"
   ]
  },
  {
   "cell_type": "markdown",
   "metadata": {},
   "source": [
    "#### A - 3 - ELIF"
   ]
  },
  {
   "cell_type": "code",
   "execution_count": null,
   "metadata": {},
   "outputs": [
    {
     "ename": "",
     "evalue": "",
     "output_type": "error",
     "traceback": [
      "\u001b[1;31mRunning cells with 'CNSVEnv' requires the ipykernel package.\n",
      "\u001b[1;31mRun the following command to install 'ipykernel' into the Python environment. \n",
      "\u001b[1;31mCommand: '\"/Users/amirali/Library/Mobile Documents/com~apple~CloudDocs/Me/University/Term 8/CNS/HomeWork/CNSVEnv/bin/python\" -m pip install ipykernel -U --force-reinstall'"
     ]
    }
   ],
   "source": [
    "title = \"A-3-ELIF\"\n",
    "noise_range=0"
   ]
  },
  {
   "cell_type": "code",
   "execution_count": null,
   "metadata": {},
   "outputs": [
    {
     "ename": "",
     "evalue": "",
     "output_type": "error",
     "traceback": [
      "\u001b[1;31mRunning cells with 'CNSVEnv' requires the ipykernel package.\n",
      "\u001b[1;31mRun the following command to install 'ipykernel' into the Python environment. \n",
      "\u001b[1;31mCommand: '\"/Users/amirali/Library/Mobile Documents/com~apple~CloudDocs/Me/University/Term 8/CNS/HomeWork/CNSVEnv/bin/python\" -m pip install ipykernel -U --force-reinstall'"
     ]
    }
   ],
   "source": [
    "simulate(model=mdl.ELIF(u_rh=-50),current=cnt.SinCurrent(value=6,stretch_variable=10, noise_range=noise_range))\n",
    " "
   ]
  },
  {
   "cell_type": "code",
   "execution_count": null,
   "metadata": {},
   "outputs": [
    {
     "ename": "",
     "evalue": "",
     "output_type": "error",
     "traceback": [
      "\u001b[1;31mRunning cells with 'CNSVEnv' requires the ipykernel package.\n",
      "\u001b[1;31mRun the following command to install 'ipykernel' into the Python environment. \n",
      "\u001b[1;31mCommand: '\"/Users/amirali/Library/Mobile Documents/com~apple~CloudDocs/Me/University/Term 8/CNS/HomeWork/CNSVEnv/bin/python\" -m pip install ipykernel -U --force-reinstall'"
     ]
    }
   ],
   "source": [
    "simulate(model=mdl.ELIF(u_rh=-50),current=cnt.SinCurrent(value=14,stretch_variable=10, noise_range=noise_range))\n",
    " "
   ]
  },
  {
   "cell_type": "code",
   "execution_count": null,
   "metadata": {},
   "outputs": [
    {
     "ename": "",
     "evalue": "",
     "output_type": "error",
     "traceback": [
      "\u001b[1;31mRunning cells with 'CNSVEnv' requires the ipykernel package.\n",
      "\u001b[1;31mRun the following command to install 'ipykernel' into the Python environment. \n",
      "\u001b[1;31mCommand: '\"/Users/amirali/Library/Mobile Documents/com~apple~CloudDocs/Me/University/Term 8/CNS/HomeWork/CNSVEnv/bin/python\" -m pip install ipykernel -U --force-reinstall'"
     ]
    }
   ],
   "source": [
    "simulate(model=mdl.ELIF(u_rh=-50),current=cnt.SinCurrent(value=6,stretch_variable=1, noise_range=noise_range))\n",
    " "
   ]
  },
  {
   "cell_type": "code",
   "execution_count": null,
   "metadata": {},
   "outputs": [
    {
     "ename": "",
     "evalue": "",
     "output_type": "error",
     "traceback": [
      "\u001b[1;31mRunning cells with 'CNSVEnv' requires the ipykernel package.\n",
      "\u001b[1;31mRun the following command to install 'ipykernel' into the Python environment. \n",
      "\u001b[1;31mCommand: '\"/Users/amirali/Library/Mobile Documents/com~apple~CloudDocs/Me/University/Term 8/CNS/HomeWork/CNSVEnv/bin/python\" -m pip install ipykernel -U --force-reinstall'"
     ]
    }
   ],
   "source": [
    "simulate(model=mdl.ELIF(u_rh=-50),current=cnt.SinCurrent(value=14,stretch_variable=1, noise_range=noise_range))\n",
    " "
   ]
  },
  {
   "cell_type": "markdown",
   "metadata": {},
   "source": [
    "#### -"
   ]
  },
  {
   "cell_type": "markdown",
   "metadata": {},
   "source": [
    "#### A - 3 - ELIF - Noised"
   ]
  },
  {
   "cell_type": "code",
   "execution_count": null,
   "metadata": {},
   "outputs": [
    {
     "ename": "",
     "evalue": "",
     "output_type": "error",
     "traceback": [
      "\u001b[1;31mRunning cells with 'CNSVEnv' requires the ipykernel package.\n",
      "\u001b[1;31mRun the following command to install 'ipykernel' into the Python environment. \n",
      "\u001b[1;31mCommand: '\"/Users/amirali/Library/Mobile Documents/com~apple~CloudDocs/Me/University/Term 8/CNS/HomeWork/CNSVEnv/bin/python\" -m pip install ipykernel -U --force-reinstall'"
     ]
    }
   ],
   "source": [
    "title = \"A-3-ELIF-noised\"\n",
    "noise_range = 1"
   ]
  },
  {
   "cell_type": "code",
   "execution_count": null,
   "metadata": {},
   "outputs": [
    {
     "ename": "",
     "evalue": "",
     "output_type": "error",
     "traceback": [
      "\u001b[1;31mRunning cells with 'CNSVEnv' requires the ipykernel package.\n",
      "\u001b[1;31mRun the following command to install 'ipykernel' into the Python environment. \n",
      "\u001b[1;31mCommand: '\"/Users/amirali/Library/Mobile Documents/com~apple~CloudDocs/Me/University/Term 8/CNS/HomeWork/CNSVEnv/bin/python\" -m pip install ipykernel -U --force-reinstall'"
     ]
    }
   ],
   "source": [
    "simulate(model=mdl.ELIF(u_rh=-50),current=cnt.SinCurrent(value=6,stretch_variable=10, noise_range=noise_range))\n",
    " "
   ]
  },
  {
   "cell_type": "code",
   "execution_count": null,
   "metadata": {},
   "outputs": [
    {
     "ename": "",
     "evalue": "",
     "output_type": "error",
     "traceback": [
      "\u001b[1;31mRunning cells with 'CNSVEnv' requires the ipykernel package.\n",
      "\u001b[1;31mRun the following command to install 'ipykernel' into the Python environment. \n",
      "\u001b[1;31mCommand: '\"/Users/amirali/Library/Mobile Documents/com~apple~CloudDocs/Me/University/Term 8/CNS/HomeWork/CNSVEnv/bin/python\" -m pip install ipykernel -U --force-reinstall'"
     ]
    }
   ],
   "source": [
    "simulate(model=mdl.ELIF(u_rh=-50),current=cnt.SinCurrent(value=14,stretch_variable=10, noise_range=noise_range))\n",
    " "
   ]
  },
  {
   "cell_type": "code",
   "execution_count": null,
   "metadata": {},
   "outputs": [
    {
     "ename": "",
     "evalue": "",
     "output_type": "error",
     "traceback": [
      "\u001b[1;31mRunning cells with 'CNSVEnv' requires the ipykernel package.\n",
      "\u001b[1;31mRun the following command to install 'ipykernel' into the Python environment. \n",
      "\u001b[1;31mCommand: '\"/Users/amirali/Library/Mobile Documents/com~apple~CloudDocs/Me/University/Term 8/CNS/HomeWork/CNSVEnv/bin/python\" -m pip install ipykernel -U --force-reinstall'"
     ]
    }
   ],
   "source": [
    "simulate(model=mdl.ELIF(u_rh=-50),current=cnt.SinCurrent(value=6,stretch_variable=1, noise_range=noise_range))\n",
    " "
   ]
  },
  {
   "cell_type": "code",
   "execution_count": null,
   "metadata": {},
   "outputs": [
    {
     "ename": "",
     "evalue": "",
     "output_type": "error",
     "traceback": [
      "\u001b[1;31mRunning cells with 'CNSVEnv' requires the ipykernel package.\n",
      "\u001b[1;31mRun the following command to install 'ipykernel' into the Python environment. \n",
      "\u001b[1;31mCommand: '\"/Users/amirali/Library/Mobile Documents/com~apple~CloudDocs/Me/University/Term 8/CNS/HomeWork/CNSVEnv/bin/python\" -m pip install ipykernel -U --force-reinstall'"
     ]
    }
   ],
   "source": [
    "simulate(model=mdl.ELIF(u_rh=-50),current=cnt.SinCurrent(value=14,stretch_variable=1, noise_range=noise_range))\n",
    " "
   ]
  },
  {
   "cell_type": "markdown",
   "metadata": {},
   "source": [
    "#### -"
   ]
  },
  {
   "cell_type": "markdown",
   "metadata": {},
   "source": [
    "### -"
   ]
  },
  {
   "cell_type": "markdown",
   "metadata": {},
   "source": [
    "### A - 3 - AELIF"
   ]
  },
  {
   "cell_type": "markdown",
   "metadata": {},
   "source": [
    "#### A - 3 - AELIF"
   ]
  },
  {
   "cell_type": "code",
   "execution_count": null,
   "metadata": {},
   "outputs": [
    {
     "ename": "",
     "evalue": "",
     "output_type": "error",
     "traceback": [
      "\u001b[1;31mRunning cells with 'CNSVEnv' requires the ipykernel package.\n",
      "\u001b[1;31mRun the following command to install 'ipykernel' into the Python environment. \n",
      "\u001b[1;31mCommand: '\"/Users/amirali/Library/Mobile Documents/com~apple~CloudDocs/Me/University/Term 8/CNS/HomeWork/CNSVEnv/bin/python\" -m pip install ipykernel -U --force-reinstall'"
     ]
    }
   ],
   "source": [
    "title = \"A-3-AELIF\"\n",
    "noise_range=0"
   ]
  },
  {
   "cell_type": "code",
   "execution_count": null,
   "metadata": {},
   "outputs": [
    {
     "ename": "",
     "evalue": "",
     "output_type": "error",
     "traceback": [
      "\u001b[1;31mRunning cells with 'CNSVEnv' requires the ipykernel package.\n",
      "\u001b[1;31mRun the following command to install 'ipykernel' into the Python environment. \n",
      "\u001b[1;31mCommand: '\"/Users/amirali/Library/Mobile Documents/com~apple~CloudDocs/Me/University/Term 8/CNS/HomeWork/CNSVEnv/bin/python\" -m pip install ipykernel -U --force-reinstall'"
     ]
    }
   ],
   "source": [
    "simulate(model=mdl.AELIF(u_rh=-50,tau_w=100,b=0.01), current=cnt.SinCurrent(value=6,stretch_variable=10, noise_range=noise_range), title=title)\n"
   ]
  },
  {
   "cell_type": "code",
   "execution_count": null,
   "metadata": {},
   "outputs": [
    {
     "ename": "",
     "evalue": "",
     "output_type": "error",
     "traceback": [
      "\u001b[1;31mRunning cells with 'CNSVEnv' requires the ipykernel package.\n",
      "\u001b[1;31mRun the following command to install 'ipykernel' into the Python environment. \n",
      "\u001b[1;31mCommand: '\"/Users/amirali/Library/Mobile Documents/com~apple~CloudDocs/Me/University/Term 8/CNS/HomeWork/CNSVEnv/bin/python\" -m pip install ipykernel -U --force-reinstall'"
     ]
    }
   ],
   "source": [
    "simulate(model=mdl.AELIF(u_rh=-50,tau_w=100,b=0.01), current=cnt.SinCurrent(value=20,stretch_variable=10, noise_range=noise_range),title=title)\n"
   ]
  },
  {
   "cell_type": "code",
   "execution_count": null,
   "metadata": {},
   "outputs": [
    {
     "ename": "",
     "evalue": "",
     "output_type": "error",
     "traceback": [
      "\u001b[1;31mRunning cells with 'CNSVEnv' requires the ipykernel package.\n",
      "\u001b[1;31mRun the following command to install 'ipykernel' into the Python environment. \n",
      "\u001b[1;31mCommand: '\"/Users/amirali/Library/Mobile Documents/com~apple~CloudDocs/Me/University/Term 8/CNS/HomeWork/CNSVEnv/bin/python\" -m pip install ipykernel -U --force-reinstall'"
     ]
    }
   ],
   "source": [
    "simulate(model=mdl.AELIF(u_rh=-50,tau_w=100,b=0.01), current=cnt.SinCurrent(value=6,stretch_variable=1, noise_range=noise_range),title=title)\n"
   ]
  },
  {
   "cell_type": "code",
   "execution_count": null,
   "metadata": {},
   "outputs": [
    {
     "ename": "",
     "evalue": "",
     "output_type": "error",
     "traceback": [
      "\u001b[1;31mRunning cells with 'CNSVEnv' requires the ipykernel package.\n",
      "\u001b[1;31mRun the following command to install 'ipykernel' into the Python environment. \n",
      "\u001b[1;31mCommand: '\"/Users/amirali/Library/Mobile Documents/com~apple~CloudDocs/Me/University/Term 8/CNS/HomeWork/CNSVEnv/bin/python\" -m pip install ipykernel -U --force-reinstall'"
     ]
    }
   ],
   "source": [
    "simulate(model=mdl.AELIF(u_rh=-50,tau_w=100,b=0.01), current=cnt.SinCurrent(value=20,stretch_variable=1, noise_range=noise_range), title=title)\n"
   ]
  },
  {
   "cell_type": "markdown",
   "metadata": {},
   "source": [
    "change tau_w"
   ]
  },
  {
   "cell_type": "code",
   "execution_count": null,
   "metadata": {},
   "outputs": [
    {
     "ename": "",
     "evalue": "",
     "output_type": "error",
     "traceback": [
      "\u001b[1;31mRunning cells with 'CNSVEnv' requires the ipykernel package.\n",
      "\u001b[1;31mRun the following command to install 'ipykernel' into the Python environment. \n",
      "\u001b[1;31mCommand: '\"/Users/amirali/Library/Mobile Documents/com~apple~CloudDocs/Me/University/Term 8/CNS/HomeWork/CNSVEnv/bin/python\" -m pip install ipykernel -U --force-reinstall'"
     ]
    }
   ],
   "source": [
    "title = \"A-3-AELIF\"\n",
    "noise_range=0"
   ]
  },
  {
   "cell_type": "code",
   "execution_count": null,
   "metadata": {},
   "outputs": [
    {
     "ename": "",
     "evalue": "",
     "output_type": "error",
     "traceback": [
      "\u001b[1;31mRunning cells with 'CNSVEnv' requires the ipykernel package.\n",
      "\u001b[1;31mRun the following command to install 'ipykernel' into the Python environment. \n",
      "\u001b[1;31mCommand: '\"/Users/amirali/Library/Mobile Documents/com~apple~CloudDocs/Me/University/Term 8/CNS/HomeWork/CNSVEnv/bin/python\" -m pip install ipykernel -U --force-reinstall'"
     ]
    }
   ],
   "source": [
    "simulate(model=mdl.AELIF(u_rh=-50,tau_w=10,b=0.01), current=cnt.SinCurrent(value=6,stretch_variable=10, noise_range=noise_range), title=title)\n"
   ]
  },
  {
   "cell_type": "code",
   "execution_count": null,
   "metadata": {},
   "outputs": [
    {
     "ename": "",
     "evalue": "",
     "output_type": "error",
     "traceback": [
      "\u001b[1;31mRunning cells with 'CNSVEnv' requires the ipykernel package.\n",
      "\u001b[1;31mRun the following command to install 'ipykernel' into the Python environment. \n",
      "\u001b[1;31mCommand: '\"/Users/amirali/Library/Mobile Documents/com~apple~CloudDocs/Me/University/Term 8/CNS/HomeWork/CNSVEnv/bin/python\" -m pip install ipykernel -U --force-reinstall'"
     ]
    }
   ],
   "source": [
    "simulate(model=mdl.AELIF(u_rh=-50,tau_w=1000,b=0.01), current=cnt.SinCurrent(value=20,stretch_variable=10, noise_range=noise_range), title=title)\n"
   ]
  },
  {
   "cell_type": "code",
   "execution_count": null,
   "metadata": {},
   "outputs": [
    {
     "ename": "",
     "evalue": "",
     "output_type": "error",
     "traceback": [
      "\u001b[1;31mRunning cells with 'CNSVEnv' requires the ipykernel package.\n",
      "\u001b[1;31mRun the following command to install 'ipykernel' into the Python environment. \n",
      "\u001b[1;31mCommand: '\"/Users/amirali/Library/Mobile Documents/com~apple~CloudDocs/Me/University/Term 8/CNS/HomeWork/CNSVEnv/bin/python\" -m pip install ipykernel -U --force-reinstall'"
     ]
    }
   ],
   "source": [
    "simulate(model=mdl.AELIF(u_rh=-50,tau_w=10,b=0.01), current=cnt.SinCurrent(value=6,stretch_variable=1, noise_range=noise_range), title=title)\n"
   ]
  },
  {
   "cell_type": "code",
   "execution_count": null,
   "metadata": {},
   "outputs": [
    {
     "ename": "",
     "evalue": "",
     "output_type": "error",
     "traceback": [
      "\u001b[1;31mRunning cells with 'CNSVEnv' requires the ipykernel package.\n",
      "\u001b[1;31mRun the following command to install 'ipykernel' into the Python environment. \n",
      "\u001b[1;31mCommand: '\"/Users/amirali/Library/Mobile Documents/com~apple~CloudDocs/Me/University/Term 8/CNS/HomeWork/CNSVEnv/bin/python\" -m pip install ipykernel -U --force-reinstall'"
     ]
    }
   ],
   "source": [
    "simulate(model=mdl.AELIF(u_rh=-50,tau_w=10,b=0.01), current=cnt.SinCurrent(value=20,stretch_variable=1, noise_range=noise_range), title=title)\n"
   ]
  },
  {
   "cell_type": "markdown",
   "metadata": {},
   "source": [
    "#### -"
   ]
  },
  {
   "cell_type": "markdown",
   "metadata": {},
   "source": [
    "#### A - 3 - AELIF - Noised"
   ]
  },
  {
   "cell_type": "code",
   "execution_count": null,
   "metadata": {},
   "outputs": [
    {
     "ename": "",
     "evalue": "",
     "output_type": "error",
     "traceback": [
      "\u001b[1;31mRunning cells with 'CNSVEnv' requires the ipykernel package.\n",
      "\u001b[1;31mRun the following command to install 'ipykernel' into the Python environment. \n",
      "\u001b[1;31mCommand: '\"/Users/amirali/Library/Mobile Documents/com~apple~CloudDocs/Me/University/Term 8/CNS/HomeWork/CNSVEnv/bin/python\" -m pip install ipykernel -U --force-reinstall'"
     ]
    }
   ],
   "source": [
    "title = \"A-3-AELIF-noised\"\n",
    "noise_range = 1"
   ]
  },
  {
   "cell_type": "code",
   "execution_count": null,
   "metadata": {},
   "outputs": [
    {
     "ename": "",
     "evalue": "",
     "output_type": "error",
     "traceback": [
      "\u001b[1;31mRunning cells with 'CNSVEnv' requires the ipykernel package.\n",
      "\u001b[1;31mRun the following command to install 'ipykernel' into the Python environment. \n",
      "\u001b[1;31mCommand: '\"/Users/amirali/Library/Mobile Documents/com~apple~CloudDocs/Me/University/Term 8/CNS/HomeWork/CNSVEnv/bin/python\" -m pip install ipykernel -U --force-reinstall'"
     ]
    }
   ],
   "source": [
    "simulate(model=mdl.AELIF(u_rh=-50,tau_w=100,b=0.01), current=cnt.SinCurrent(value=6,stretch_variable=10, noise_range=noise_range), title=title)\n"
   ]
  },
  {
   "cell_type": "code",
   "execution_count": null,
   "metadata": {},
   "outputs": [
    {
     "ename": "",
     "evalue": "",
     "output_type": "error",
     "traceback": [
      "\u001b[1;31mRunning cells with 'CNSVEnv' requires the ipykernel package.\n",
      "\u001b[1;31mRun the following command to install 'ipykernel' into the Python environment. \n",
      "\u001b[1;31mCommand: '\"/Users/amirali/Library/Mobile Documents/com~apple~CloudDocs/Me/University/Term 8/CNS/HomeWork/CNSVEnv/bin/python\" -m pip install ipykernel -U --force-reinstall'"
     ]
    }
   ],
   "source": [
    "simulate(model=mdl.AELIF(u_rh=-50,tau_w=100,b=0.01), current=cnt.SinCurrent(value=20,stretch_variable=10, noise_range=noise_range),title=title)\n"
   ]
  },
  {
   "cell_type": "code",
   "execution_count": null,
   "metadata": {},
   "outputs": [
    {
     "ename": "",
     "evalue": "",
     "output_type": "error",
     "traceback": [
      "\u001b[1;31mRunning cells with 'CNSVEnv' requires the ipykernel package.\n",
      "\u001b[1;31mRun the following command to install 'ipykernel' into the Python environment. \n",
      "\u001b[1;31mCommand: '\"/Users/amirali/Library/Mobile Documents/com~apple~CloudDocs/Me/University/Term 8/CNS/HomeWork/CNSVEnv/bin/python\" -m pip install ipykernel -U --force-reinstall'"
     ]
    }
   ],
   "source": [
    "simulate(model=mdl.AELIF(u_rh=-50,tau_w=10,b=0.01), current=cnt.SinCurrent(value=6,stretch_variable=10, noise_range=noise_range), title=title)"
   ]
  },
  {
   "cell_type": "code",
   "execution_count": null,
   "metadata": {},
   "outputs": [
    {
     "ename": "",
     "evalue": "",
     "output_type": "error",
     "traceback": [
      "\u001b[1;31mRunning cells with 'CNSVEnv' requires the ipykernel package.\n",
      "\u001b[1;31mRun the following command to install 'ipykernel' into the Python environment. \n",
      "\u001b[1;31mCommand: '\"/Users/amirali/Library/Mobile Documents/com~apple~CloudDocs/Me/University/Term 8/CNS/HomeWork/CNSVEnv/bin/python\" -m pip install ipykernel -U --force-reinstall'"
     ]
    }
   ],
   "source": [
    "simulate(model=mdl.AELIF(u_rh=-50,tau_w=1000,b=0.01), current=cnt.SinCurrent(value=20,stretch_variable=10, noise_range=noise_range), title=title)"
   ]
  },
  {
   "cell_type": "markdown",
   "metadata": {},
   "source": [
    "#### -"
   ]
  },
  {
   "cell_type": "markdown",
   "metadata": {},
   "source": [
    "### -"
   ]
  },
  {
   "cell_type": "markdown",
   "metadata": {},
   "source": []
  },
  {
   "cell_type": "markdown",
   "metadata": {},
   "source": []
  },
  {
   "cell_type": "markdown",
   "metadata": {},
   "source": [
    "## -"
   ]
  },
  {
   "cell_type": "markdown",
   "metadata": {},
   "source": [
    "# -"
   ]
  },
  {
   "cell_type": "markdown",
   "metadata": {},
   "source": [
    "# قسمت ب)"
   ]
  },
  {
   "cell_type": "markdown",
   "metadata": {},
   "source": [
    "## B - 1 - LIF "
   ]
  },
  {
   "cell_type": "code",
   "execution_count": null,
   "metadata": {},
   "outputs": [
    {
     "ename": "",
     "evalue": "",
     "output_type": "error",
     "traceback": [
      "\u001b[1;31mRunning cells with 'CNSVEnv' requires the ipykernel package.\n",
      "\u001b[1;31mRun the following command to install 'ipykernel' into the Python environment. \n",
      "\u001b[1;31mCommand: '\"/Users/amirali/Library/Mobile Documents/com~apple~CloudDocs/Me/University/Term 8/CNS/HomeWork/CNSVEnv/bin/python\" -m pip install ipykernel -U --force-reinstall'"
     ]
    }
   ],
   "source": [
    "title = \"B-1-LIF\""
   ]
  },
  {
   "cell_type": "code",
   "execution_count": null,
   "metadata": {},
   "outputs": [
    {
     "ename": "",
     "evalue": "",
     "output_type": "error",
     "traceback": [
      "\u001b[1;31mRunning cells with 'CNSVEnv' requires the ipykernel package.\n",
      "\u001b[1;31mRun the following command to install 'ipykernel' into the Python environment. \n",
      "\u001b[1;31mCommand: '\"/Users/amirali/Library/Mobile Documents/com~apple~CloudDocs/Me/University/Term 8/CNS/HomeWork/CNSVEnv/bin/python\" -m pip install ipykernel -U --force-reinstall'"
     ]
    }
   ],
   "source": [
    "for i in range (4):\n",
    "    simulate(current=cnt.UniformCurrent(value=5.5, noise_range=(2**i)-1), title=title)\n"
   ]
  },
  {
   "cell_type": "markdown",
   "metadata": {},
   "source": []
  },
  {
   "cell_type": "markdown",
   "metadata": {},
   "source": [
    "## - "
   ]
  },
  {
   "cell_type": "markdown",
   "metadata": {},
   "source": [
    "## B - 1 - ELIF "
   ]
  },
  {
   "cell_type": "code",
   "execution_count": null,
   "metadata": {},
   "outputs": [
    {
     "ename": "",
     "evalue": "",
     "output_type": "error",
     "traceback": [
      "\u001b[1;31mRunning cells with 'CNSVEnv' requires the ipykernel package.\n",
      "\u001b[1;31mRun the following command to install 'ipykernel' into the Python environment. \n",
      "\u001b[1;31mCommand: '\"/Users/amirali/Library/Mobile Documents/com~apple~CloudDocs/Me/University/Term 8/CNS/HomeWork/CNSVEnv/bin/python\" -m pip install ipykernel -U --force-reinstall'"
     ]
    }
   ],
   "source": [
    "title = \"B-1-ELIF\""
   ]
  },
  {
   "cell_type": "code",
   "execution_count": null,
   "metadata": {},
   "outputs": [
    {
     "ename": "",
     "evalue": "",
     "output_type": "error",
     "traceback": [
      "\u001b[1;31mRunning cells with 'CNSVEnv' requires the ipykernel package.\n",
      "\u001b[1;31mRun the following command to install 'ipykernel' into the Python environment. \n",
      "\u001b[1;31mCommand: '\"/Users/amirali/Library/Mobile Documents/com~apple~CloudDocs/Me/University/Term 8/CNS/HomeWork/CNSVEnv/bin/python\" -m pip install ipykernel -U --force-reinstall'"
     ]
    }
   ],
   "source": [
    "for i in range (4):\n",
    "    simulate( model = mdl.ELIF(u_rh=-50), current=cnt.UniformCurrent(value=9, noise_range=(2**i)-1), title=title)"
   ]
  },
  {
   "cell_type": "markdown",
   "metadata": {},
   "source": []
  },
  {
   "cell_type": "markdown",
   "metadata": {},
   "source": [
    "## - "
   ]
  },
  {
   "cell_type": "markdown",
   "metadata": {},
   "source": [
    "## B - 1 - AELIF "
   ]
  },
  {
   "cell_type": "code",
   "execution_count": null,
   "metadata": {},
   "outputs": [
    {
     "ename": "",
     "evalue": "",
     "output_type": "error",
     "traceback": [
      "\u001b[1;31mRunning cells with 'CNSVEnv' requires the ipykernel package.\n",
      "\u001b[1;31mRun the following command to install 'ipykernel' into the Python environment. \n",
      "\u001b[1;31mCommand: '\"/Users/amirali/Library/Mobile Documents/com~apple~CloudDocs/Me/University/Term 8/CNS/HomeWork/CNSVEnv/bin/python\" -m pip install ipykernel -U --force-reinstall'"
     ]
    }
   ],
   "source": [
    "title = \"B-1-AELIF\""
   ]
  },
  {
   "cell_type": "code",
   "execution_count": null,
   "metadata": {},
   "outputs": [
    {
     "ename": "",
     "evalue": "",
     "output_type": "error",
     "traceback": [
      "\u001b[1;31mRunning cells with 'CNSVEnv' requires the ipykernel package.\n",
      "\u001b[1;31mRun the following command to install 'ipykernel' into the Python environment. \n",
      "\u001b[1;31mCommand: '\"/Users/amirali/Library/Mobile Documents/com~apple~CloudDocs/Me/University/Term 8/CNS/HomeWork/CNSVEnv/bin/python\" -m pip install ipykernel -U --force-reinstall'"
     ]
    }
   ],
   "source": [
    "for i in range (4):\n",
    "    simulate( model=mdl.AELIF(u_rh=-50,tau_w=100,b=0.01,a=0.6), \n",
    "             current=cnt.UniformCurrent(value=15, noise_range=(2**i)-1), title=title)"
   ]
  },
  {
   "cell_type": "code",
   "execution_count": null,
   "metadata": {},
   "outputs": [
    {
     "ename": "",
     "evalue": "",
     "output_type": "error",
     "traceback": [
      "\u001b[1;31mRunning cells with 'CNSVEnv' requires the ipykernel package.\n",
      "\u001b[1;31mRun the following command to install 'ipykernel' into the Python environment. \n",
      "\u001b[1;31mCommand: '\"/Users/amirali/Library/Mobile Documents/com~apple~CloudDocs/Me/University/Term 8/CNS/HomeWork/CNSVEnv/bin/python\" -m pip install ipykernel -U --force-reinstall'"
     ]
    }
   ],
   "source": [
    "for i in range (4):\n",
    "    simulate( model=mdl.AELIF(u_rh=-50,tau_w=10,b=0.01,a=0.6), \n",
    "             current=cnt.UniformCurrent(value=15, noise_range=(2**i)-1), title=title)"
   ]
  },
  {
   "cell_type": "markdown",
   "metadata": {},
   "source": []
  },
  {
   "cell_type": "markdown",
   "metadata": {},
   "source": [
    "## - "
   ]
  },
  {
   "cell_type": "markdown",
   "metadata": {},
   "source": [
    "# -"
   ]
  },
  {
   "cell_type": "markdown",
   "metadata": {},
   "source": [
    "# قسمت ج اجباری)"
   ]
  },
  {
   "cell_type": "markdown",
   "metadata": {},
   "source": [
    "## C - 1 - LIF "
   ]
  },
  {
   "cell_type": "code",
   "execution_count": null,
   "metadata": {},
   "outputs": [
    {
     "ename": "",
     "evalue": "",
     "output_type": "error",
     "traceback": [
      "\u001b[1;31mRunning cells with 'CNSVEnv' requires the ipykernel package.\n",
      "\u001b[1;31mRun the following command to install 'ipykernel' into the Python environment. \n",
      "\u001b[1;31mCommand: '\"/Users/amirali/Library/Mobile Documents/com~apple~CloudDocs/Me/University/Term 8/CNS/HomeWork/CNSVEnv/bin/python\" -m pip install ipykernel -U --force-reinstall'"
     ]
    }
   ],
   "source": [
    "title = \"C-1-LIF\""
   ]
  },
  {
   "cell_type": "code",
   "execution_count": null,
   "metadata": {},
   "outputs": [
    {
     "ename": "",
     "evalue": "",
     "output_type": "error",
     "traceback": [
      "\u001b[1;31mRunning cells with 'CNSVEnv' requires the ipykernel package.\n",
      "\u001b[1;31mRun the following command to install 'ipykernel' into the Python environment. \n",
      "\u001b[1;31mCommand: '\"/Users/amirali/Library/Mobile Documents/com~apple~CloudDocs/Me/University/Term 8/CNS/HomeWork/CNSVEnv/bin/python\" -m pip install ipykernel -U --force-reinstall'"
     ]
    }
   ],
   "source": [
    "simulate_IF_LIF(noise_range=0, title=title)"
   ]
  },
  {
   "cell_type": "code",
   "execution_count": null,
   "metadata": {},
   "outputs": [
    {
     "ename": "",
     "evalue": "",
     "output_type": "error",
     "traceback": [
      "\u001b[1;31mRunning cells with 'CNSVEnv' requires the ipykernel package.\n",
      "\u001b[1;31mRun the following command to install 'ipykernel' into the Python environment. \n",
      "\u001b[1;31mCommand: '\"/Users/amirali/Library/Mobile Documents/com~apple~CloudDocs/Me/University/Term 8/CNS/HomeWork/CNSVEnv/bin/python\" -m pip install ipykernel -U --force-reinstall'"
     ]
    }
   ],
   "source": [
    "simulate_IF_LIF(noise_range=10, title=title)\n"
   ]
  },
  {
   "cell_type": "markdown",
   "metadata": {},
   "source": [
    "## - "
   ]
  },
  {
   "cell_type": "markdown",
   "metadata": {},
   "source": [
    "## C - 1 - ELIF "
   ]
  },
  {
   "cell_type": "code",
   "execution_count": null,
   "metadata": {},
   "outputs": [
    {
     "ename": "",
     "evalue": "",
     "output_type": "error",
     "traceback": [
      "\u001b[1;31mRunning cells with 'CNSVEnv' requires the ipykernel package.\n",
      "\u001b[1;31mRun the following command to install 'ipykernel' into the Python environment. \n",
      "\u001b[1;31mCommand: '\"/Users/amirali/Library/Mobile Documents/com~apple~CloudDocs/Me/University/Term 8/CNS/HomeWork/CNSVEnv/bin/python\" -m pip install ipykernel -U --force-reinstall'"
     ]
    }
   ],
   "source": [
    "title = \"C-1-ELIF\""
   ]
  },
  {
   "cell_type": "code",
   "execution_count": null,
   "metadata": {},
   "outputs": [
    {
     "ename": "",
     "evalue": "",
     "output_type": "error",
     "traceback": [
      "\u001b[1;31mRunning cells with 'CNSVEnv' requires the ipykernel package.\n",
      "\u001b[1;31mRun the following command to install 'ipykernel' into the Python environment. \n",
      "\u001b[1;31mCommand: '\"/Users/amirali/Library/Mobile Documents/com~apple~CloudDocs/Me/University/Term 8/CNS/HomeWork/CNSVEnv/bin/python\" -m pip install ipykernel -U --force-reinstall'"
     ]
    }
   ],
   "source": [
    "simulate_IF_ELIF(title=title)"
   ]
  },
  {
   "cell_type": "code",
   "execution_count": null,
   "metadata": {},
   "outputs": [
    {
     "ename": "",
     "evalue": "",
     "output_type": "error",
     "traceback": [
      "\u001b[1;31mRunning cells with 'CNSVEnv' requires the ipykernel package.\n",
      "\u001b[1;31mRun the following command to install 'ipykernel' into the Python environment. \n",
      "\u001b[1;31mCommand: '\"/Users/amirali/Library/Mobile Documents/com~apple~CloudDocs/Me/University/Term 8/CNS/HomeWork/CNSVEnv/bin/python\" -m pip install ipykernel -U --force-reinstall'"
     ]
    }
   ],
   "source": [
    "simulate_IF_ELIF(noise_range=10, title=title)"
   ]
  },
  {
   "cell_type": "markdown",
   "metadata": {},
   "source": []
  },
  {
   "cell_type": "markdown",
   "metadata": {},
   "source": [
    "## - "
   ]
  },
  {
   "cell_type": "markdown",
   "metadata": {},
   "source": [
    "## C - 1 - AELIF "
   ]
  },
  {
   "cell_type": "code",
   "execution_count": null,
   "metadata": {},
   "outputs": [
    {
     "ename": "",
     "evalue": "",
     "output_type": "error",
     "traceback": [
      "\u001b[1;31mRunning cells with 'CNSVEnv' requires the ipykernel package.\n",
      "\u001b[1;31mRun the following command to install 'ipykernel' into the Python environment. \n",
      "\u001b[1;31mCommand: '\"/Users/amirali/Library/Mobile Documents/com~apple~CloudDocs/Me/University/Term 8/CNS/HomeWork/CNSVEnv/bin/python\" -m pip install ipykernel -U --force-reinstall'"
     ]
    }
   ],
   "source": [
    "title = \"C-1-AELIF\""
   ]
  },
  {
   "cell_type": "code",
   "execution_count": null,
   "metadata": {},
   "outputs": [
    {
     "ename": "",
     "evalue": "",
     "output_type": "error",
     "traceback": [
      "\u001b[1;31mRunning cells with 'CNSVEnv' requires the ipykernel package.\n",
      "\u001b[1;31mRun the following command to install 'ipykernel' into the Python environment. \n",
      "\u001b[1;31mCommand: '\"/Users/amirali/Library/Mobile Documents/com~apple~CloudDocs/Me/University/Term 8/CNS/HomeWork/CNSVEnv/bin/python\" -m pip install ipykernel -U --force-reinstall'"
     ]
    }
   ],
   "source": [
    "simulate_IF_AELIF(rng=40, title = title)"
   ]
  },
  {
   "cell_type": "code",
   "execution_count": null,
   "metadata": {},
   "outputs": [
    {
     "ename": "",
     "evalue": "",
     "output_type": "error",
     "traceback": [
      "\u001b[1;31mRunning cells with 'CNSVEnv' requires the ipykernel package.\n",
      "\u001b[1;31mRun the following command to install 'ipykernel' into the Python environment. \n",
      "\u001b[1;31mCommand: '\"/Users/amirali/Library/Mobile Documents/com~apple~CloudDocs/Me/University/Term 8/CNS/HomeWork/CNSVEnv/bin/python\" -m pip install ipykernel -U --force-reinstall'"
     ]
    }
   ],
   "source": [
    "simulate_IF_AELIF(rng=40, noise_range=10, title=title)\n"
   ]
  },
  {
   "cell_type": "markdown",
   "metadata": {},
   "source": []
  },
  {
   "cell_type": "markdown",
   "metadata": {},
   "source": [
    "## - "
   ]
  },
  {
   "cell_type": "markdown",
   "metadata": {},
   "source": [
    "# -"
   ]
  },
  {
   "cell_type": "markdown",
   "metadata": {},
   "source": [
    "# قسمت ج اختیاری)"
   ]
  },
  {
   "cell_type": "markdown",
   "metadata": {},
   "source": [
    "## C - 2 - LIF "
   ]
  },
  {
   "cell_type": "code",
   "execution_count": null,
   "metadata": {},
   "outputs": [
    {
     "ename": "",
     "evalue": "",
     "output_type": "error",
     "traceback": [
      "\u001b[1;31mRunning cells with 'CNSVEnv' requires the ipykernel package.\n",
      "\u001b[1;31mRun the following command to install 'ipykernel' into the Python environment. \n",
      "\u001b[1;31mCommand: '\"/Users/amirali/Library/Mobile Documents/com~apple~CloudDocs/Me/University/Term 8/CNS/HomeWork/CNSVEnv/bin/python\" -m pip install ipykernel -U --force-reinstall'"
     ]
    }
   ],
   "source": [
    "title = \"C-2-LIF\""
   ]
  },
  {
   "cell_type": "code",
   "execution_count": null,
   "metadata": {},
   "outputs": [
    {
     "ename": "",
     "evalue": "",
     "output_type": "error",
     "traceback": [
      "\u001b[1;31mRunning cells with 'CNSVEnv' requires the ipykernel package.\n",
      "\u001b[1;31mRun the following command to install 'ipykernel' into the Python environment. \n",
      "\u001b[1;31mCommand: '\"/Users/amirali/Library/Mobile Documents/com~apple~CloudDocs/Me/University/Term 8/CNS/HomeWork/CNSVEnv/bin/python\" -m pip install ipykernel -U --force-reinstall'"
     ]
    }
   ],
   "source": [
    "simulate_mean_LIF(noise_range=0, title=title)"
   ]
  },
  {
   "cell_type": "code",
   "execution_count": null,
   "metadata": {},
   "outputs": [
    {
     "ename": "",
     "evalue": "",
     "output_type": "error",
     "traceback": [
      "\u001b[1;31mRunning cells with 'CNSVEnv' requires the ipykernel package.\n",
      "\u001b[1;31mRun the following command to install 'ipykernel' into the Python environment. \n",
      "\u001b[1;31mCommand: '\"/Users/amirali/Library/Mobile Documents/com~apple~CloudDocs/Me/University/Term 8/CNS/HomeWork/CNSVEnv/bin/python\" -m pip install ipykernel -U --force-reinstall'"
     ]
    }
   ],
   "source": [
    "simulate_mean_LIF(noise_range=10, title=title)\n"
   ]
  },
  {
   "cell_type": "markdown",
   "metadata": {},
   "source": [
    "## - "
   ]
  },
  {
   "cell_type": "markdown",
   "metadata": {},
   "source": [
    "## C - 2 - ELIF "
   ]
  },
  {
   "cell_type": "code",
   "execution_count": null,
   "metadata": {},
   "outputs": [
    {
     "ename": "",
     "evalue": "",
     "output_type": "error",
     "traceback": [
      "\u001b[1;31mRunning cells with 'CNSVEnv' requires the ipykernel package.\n",
      "\u001b[1;31mRun the following command to install 'ipykernel' into the Python environment. \n",
      "\u001b[1;31mCommand: '\"/Users/amirali/Library/Mobile Documents/com~apple~CloudDocs/Me/University/Term 8/CNS/HomeWork/CNSVEnv/bin/python\" -m pip install ipykernel -U --force-reinstall'"
     ]
    }
   ],
   "source": [
    "title = \"C-2-ELIF\""
   ]
  },
  {
   "cell_type": "code",
   "execution_count": null,
   "metadata": {},
   "outputs": [
    {
     "ename": "",
     "evalue": "",
     "output_type": "error",
     "traceback": [
      "\u001b[1;31mRunning cells with 'CNSVEnv' requires the ipykernel package.\n",
      "\u001b[1;31mRun the following command to install 'ipykernel' into the Python environment. \n",
      "\u001b[1;31mCommand: '\"/Users/amirali/Library/Mobile Documents/com~apple~CloudDocs/Me/University/Term 8/CNS/HomeWork/CNSVEnv/bin/python\" -m pip install ipykernel -U --force-reinstall'"
     ]
    }
   ],
   "source": [
    "simulate_mean_ELIF(title=title)"
   ]
  },
  {
   "cell_type": "code",
   "execution_count": null,
   "metadata": {},
   "outputs": [
    {
     "ename": "",
     "evalue": "",
     "output_type": "error",
     "traceback": [
      "\u001b[1;31mRunning cells with 'CNSVEnv' requires the ipykernel package.\n",
      "\u001b[1;31mRun the following command to install 'ipykernel' into the Python environment. \n",
      "\u001b[1;31mCommand: '\"/Users/amirali/Library/Mobile Documents/com~apple~CloudDocs/Me/University/Term 8/CNS/HomeWork/CNSVEnv/bin/python\" -m pip install ipykernel -U --force-reinstall'"
     ]
    }
   ],
   "source": [
    "simulate_mean_ELIF(noise_range=10, title=title)"
   ]
  },
  {
   "cell_type": "markdown",
   "metadata": {},
   "source": []
  },
  {
   "cell_type": "markdown",
   "metadata": {},
   "source": [
    "## - "
   ]
  },
  {
   "cell_type": "markdown",
   "metadata": {},
   "source": [
    "## C - 2 - AELIF "
   ]
  },
  {
   "cell_type": "code",
   "execution_count": null,
   "metadata": {},
   "outputs": [
    {
     "ename": "",
     "evalue": "",
     "output_type": "error",
     "traceback": [
      "\u001b[1;31mRunning cells with 'CNSVEnv' requires the ipykernel package.\n",
      "\u001b[1;31mRun the following command to install 'ipykernel' into the Python environment. \n",
      "\u001b[1;31mCommand: '\"/Users/amirali/Library/Mobile Documents/com~apple~CloudDocs/Me/University/Term 8/CNS/HomeWork/CNSVEnv/bin/python\" -m pip install ipykernel -U --force-reinstall'"
     ]
    }
   ],
   "source": [
    "title = \"C-2-AELIF\""
   ]
  },
  {
   "cell_type": "code",
   "execution_count": null,
   "metadata": {},
   "outputs": [
    {
     "ename": "",
     "evalue": "",
     "output_type": "error",
     "traceback": [
      "\u001b[1;31mRunning cells with 'CNSVEnv' requires the ipykernel package.\n",
      "\u001b[1;31mRun the following command to install 'ipykernel' into the Python environment. \n",
      "\u001b[1;31mCommand: '\"/Users/amirali/Library/Mobile Documents/com~apple~CloudDocs/Me/University/Term 8/CNS/HomeWork/CNSVEnv/bin/python\" -m pip install ipykernel -U --force-reinstall'"
     ]
    }
   ],
   "source": [
    "simulate_mean_AELIF(rng=40, title = title)"
   ]
  },
  {
   "cell_type": "code",
   "execution_count": null,
   "metadata": {},
   "outputs": [
    {
     "ename": "",
     "evalue": "",
     "output_type": "error",
     "traceback": [
      "\u001b[1;31mRunning cells with 'CNSVEnv' requires the ipykernel package.\n",
      "\u001b[1;31mRun the following command to install 'ipykernel' into the Python environment. \n",
      "\u001b[1;31mCommand: '\"/Users/amirali/Library/Mobile Documents/com~apple~CloudDocs/Me/University/Term 8/CNS/HomeWork/CNSVEnv/bin/python\" -m pip install ipykernel -U --force-reinstall'"
     ]
    }
   ],
   "source": [
    "simulate_mean_AELIF(rng=40, noise_range=10, title=title)\n"
   ]
  },
  {
   "cell_type": "markdown",
   "metadata": {},
   "source": []
  },
  {
   "cell_type": "markdown",
   "metadata": {},
   "source": [
    "## - "
   ]
  },
  {
   "cell_type": "markdown",
   "metadata": {},
   "source": [
    "# -"
   ]
  },
  {
   "cell_type": "markdown",
   "metadata": {},
   "source": [
    "# قسمت د)"
   ]
  },
  {
   "cell_type": "markdown",
   "metadata": {},
   "source": [
    "## D - 1 - LIF "
   ]
  },
  {
   "cell_type": "code",
   "execution_count": null,
   "metadata": {},
   "outputs": [
    {
     "ename": "",
     "evalue": "",
     "output_type": "error",
     "traceback": [
      "\u001b[1;31mRunning cells with 'CNSVEnv' requires the ipykernel package.\n",
      "\u001b[1;31mRun the following command to install 'ipykernel' into the Python environment. \n",
      "\u001b[1;31mCommand: '\"/Users/amirali/Library/Mobile Documents/com~apple~CloudDocs/Me/University/Term 8/CNS/HomeWork/CNSVEnv/bin/python\" -m pip install ipykernel -U --force-reinstall'"
     ]
    }
   ],
   "source": [
    "title = \"D-1-LIF\""
   ]
  },
  {
   "cell_type": "code",
   "execution_count": null,
   "metadata": {},
   "outputs": [
    {
     "ename": "",
     "evalue": "",
     "output_type": "error",
     "traceback": [
      "\u001b[1;31mRunning cells with 'CNSVEnv' requires the ipykernel package.\n",
      "\u001b[1;31mRun the following command to install 'ipykernel' into the Python environment. \n",
      "\u001b[1;31mCommand: '\"/Users/amirali/Library/Mobile Documents/com~apple~CloudDocs/Me/University/Term 8/CNS/HomeWork/CNSVEnv/bin/python\" -m pip install ipykernel -U --force-reinstall'"
     ]
    }
   ],
   "source": [
    "simulate(model=mdl.LIF(refractory_period=5), current=cnt.SteadyCurrent(value=6),title=title)\n"
   ]
  },
  {
   "cell_type": "code",
   "execution_count": null,
   "metadata": {},
   "outputs": [
    {
     "ename": "",
     "evalue": "",
     "output_type": "error",
     "traceback": [
      "\u001b[1;31mRunning cells with 'CNSVEnv' requires the ipykernel package.\n",
      "\u001b[1;31mRun the following command to install 'ipykernel' into the Python environment. \n",
      "\u001b[1;31mCommand: '\"/Users/amirali/Library/Mobile Documents/com~apple~CloudDocs/Me/University/Term 8/CNS/HomeWork/CNSVEnv/bin/python\" -m pip install ipykernel -U --force-reinstall'"
     ]
    }
   ],
   "source": [
    "simulate(model=mdl.LIF(refractory_period=5), current=cnt.StepCurrent(value=6),title=title)\n"
   ]
  },
  {
   "cell_type": "code",
   "execution_count": null,
   "metadata": {},
   "outputs": [
    {
     "ename": "",
     "evalue": "",
     "output_type": "error",
     "traceback": [
      "\u001b[1;31mRunning cells with 'CNSVEnv' requires the ipykernel package.\n",
      "\u001b[1;31mRun the following command to install 'ipykernel' into the Python environment. \n",
      "\u001b[1;31mCommand: '\"/Users/amirali/Library/Mobile Documents/com~apple~CloudDocs/Me/University/Term 8/CNS/HomeWork/CNSVEnv/bin/python\" -m pip install ipykernel -U --force-reinstall'"
     ]
    }
   ],
   "source": [
    "simulate(model=mdl.LIF(refractory_period=5), current=cnt.SinCurrent(value=10, stretch_variable=10),title=title)\n"
   ]
  },
  {
   "cell_type": "code",
   "execution_count": null,
   "metadata": {},
   "outputs": [
    {
     "ename": "",
     "evalue": "",
     "output_type": "error",
     "traceback": [
      "\u001b[1;31mRunning cells with 'CNSVEnv' requires the ipykernel package.\n",
      "\u001b[1;31mRun the following command to install 'ipykernel' into the Python environment. \n",
      "\u001b[1;31mCommand: '\"/Users/amirali/Library/Mobile Documents/com~apple~CloudDocs/Me/University/Term 8/CNS/HomeWork/CNSVEnv/bin/python\" -m pip install ipykernel -U --force-reinstall'"
     ]
    }
   ],
   "source": [
    "\n",
    "simulate(model=mdl.LIF(refractory_period=5), current=cnt.UniformCurrent(value=6),title=title)"
   ]
  },
  {
   "cell_type": "markdown",
   "metadata": {},
   "source": []
  },
  {
   "cell_type": "markdown",
   "metadata": {},
   "source": [
    "## - "
   ]
  },
  {
   "cell_type": "markdown",
   "metadata": {},
   "source": [
    "## D - 1 - ELIF "
   ]
  },
  {
   "cell_type": "code",
   "execution_count": null,
   "metadata": {},
   "outputs": [
    {
     "ename": "",
     "evalue": "",
     "output_type": "error",
     "traceback": [
      "\u001b[1;31mRunning cells with 'CNSVEnv' requires the ipykernel package.\n",
      "\u001b[1;31mRun the following command to install 'ipykernel' into the Python environment. \n",
      "\u001b[1;31mCommand: '\"/Users/amirali/Library/Mobile Documents/com~apple~CloudDocs/Me/University/Term 8/CNS/HomeWork/CNSVEnv/bin/python\" -m pip install ipykernel -U --force-reinstall'"
     ]
    }
   ],
   "source": [
    "title = \"D-1-ELIF\""
   ]
  },
  {
   "cell_type": "code",
   "execution_count": null,
   "metadata": {},
   "outputs": [
    {
     "ename": "",
     "evalue": "",
     "output_type": "error",
     "traceback": [
      "\u001b[1;31mRunning cells with 'CNSVEnv' requires the ipykernel package.\n",
      "\u001b[1;31mRun the following command to install 'ipykernel' into the Python environment. \n",
      "\u001b[1;31mCommand: '\"/Users/amirali/Library/Mobile Documents/com~apple~CloudDocs/Me/University/Term 8/CNS/HomeWork/CNSVEnv/bin/python\" -m pip install ipykernel -U --force-reinstall'"
     ]
    }
   ],
   "source": [
    "simulate(model=mdl.ELIF(u_rh=-50, refractory_period=10),current=cnt.SteadyCurrent(value=9), title=title)"
   ]
  },
  {
   "cell_type": "code",
   "execution_count": null,
   "metadata": {},
   "outputs": [
    {
     "ename": "",
     "evalue": "",
     "output_type": "error",
     "traceback": [
      "\u001b[1;31mRunning cells with 'CNSVEnv' requires the ipykernel package.\n",
      "\u001b[1;31mRun the following command to install 'ipykernel' into the Python environment. \n",
      "\u001b[1;31mCommand: '\"/Users/amirali/Library/Mobile Documents/com~apple~CloudDocs/Me/University/Term 8/CNS/HomeWork/CNSVEnv/bin/python\" -m pip install ipykernel -U --force-reinstall'"
     ]
    }
   ],
   "source": [
    "simulate(model=mdl.ELIF(u_rh=-50, refractory_period=10),current=cnt.StepCurrent(value=9), title=title)\n"
   ]
  },
  {
   "cell_type": "code",
   "execution_count": null,
   "metadata": {},
   "outputs": [
    {
     "ename": "",
     "evalue": "",
     "output_type": "error",
     "traceback": [
      "\u001b[1;31mRunning cells with 'CNSVEnv' requires the ipykernel package.\n",
      "\u001b[1;31mRun the following command to install 'ipykernel' into the Python environment. \n",
      "\u001b[1;31mCommand: '\"/Users/amirali/Library/Mobile Documents/com~apple~CloudDocs/Me/University/Term 8/CNS/HomeWork/CNSVEnv/bin/python\" -m pip install ipykernel -U --force-reinstall'"
     ]
    }
   ],
   "source": [
    "simulate(model=mdl.ELIF(u_rh=-50, refractory_period=10),current=cnt.SinCurrent(value=20, stretch_variable=10), title=title)\n"
   ]
  },
  {
   "cell_type": "code",
   "execution_count": null,
   "metadata": {},
   "outputs": [
    {
     "ename": "",
     "evalue": "",
     "output_type": "error",
     "traceback": [
      "\u001b[1;31mRunning cells with 'CNSVEnv' requires the ipykernel package.\n",
      "\u001b[1;31mRun the following command to install 'ipykernel' into the Python environment. \n",
      "\u001b[1;31mCommand: '\"/Users/amirali/Library/Mobile Documents/com~apple~CloudDocs/Me/University/Term 8/CNS/HomeWork/CNSVEnv/bin/python\" -m pip install ipykernel -U --force-reinstall'"
     ]
    }
   ],
   "source": [
    "simulate(model=mdl.ELIF(u_rh=-50, refractory_period=10),current=cnt.UniformCurrent(value=9), title=title)\n"
   ]
  },
  {
   "cell_type": "markdown",
   "metadata": {},
   "source": []
  },
  {
   "cell_type": "markdown",
   "metadata": {},
   "source": [
    "## - "
   ]
  },
  {
   "cell_type": "markdown",
   "metadata": {},
   "source": [
    "## D - 1 - AELIF "
   ]
  },
  {
   "cell_type": "code",
   "execution_count": null,
   "metadata": {},
   "outputs": [
    {
     "ename": "",
     "evalue": "",
     "output_type": "error",
     "traceback": [
      "\u001b[1;31mRunning cells with 'CNSVEnv' requires the ipykernel package.\n",
      "\u001b[1;31mRun the following command to install 'ipykernel' into the Python environment. \n",
      "\u001b[1;31mCommand: '\"/Users/amirali/Library/Mobile Documents/com~apple~CloudDocs/Me/University/Term 8/CNS/HomeWork/CNSVEnv/bin/python\" -m pip install ipykernel -U --force-reinstall'"
     ]
    }
   ],
   "source": [
    "title = \"D-1AELIF\""
   ]
  },
  {
   "cell_type": "code",
   "execution_count": null,
   "metadata": {},
   "outputs": [
    {
     "ename": "",
     "evalue": "",
     "output_type": "error",
     "traceback": [
      "\u001b[1;31mRunning cells with 'CNSVEnv' requires the ipykernel package.\n",
      "\u001b[1;31mRun the following command to install 'ipykernel' into the Python environment. \n",
      "\u001b[1;31mCommand: '\"/Users/amirali/Library/Mobile Documents/com~apple~CloudDocs/Me/University/Term 8/CNS/HomeWork/CNSVEnv/bin/python\" -m pip install ipykernel -U --force-reinstall'"
     ]
    }
   ],
   "source": [
    "simulate(model=mdl.AELIF(u_rh=-50,tau_w=100,b=1,a=0.6, refractory_period=10), current=cnt.SteadyCurrent(value=20,stretch_variable=10, noise_range=0), title=title)\n"
   ]
  },
  {
   "cell_type": "code",
   "execution_count": null,
   "metadata": {},
   "outputs": [
    {
     "ename": "",
     "evalue": "",
     "output_type": "error",
     "traceback": [
      "\u001b[1;31mRunning cells with 'CNSVEnv' requires the ipykernel package.\n",
      "\u001b[1;31mRun the following command to install 'ipykernel' into the Python environment. \n",
      "\u001b[1;31mCommand: '\"/Users/amirali/Library/Mobile Documents/com~apple~CloudDocs/Me/University/Term 8/CNS/HomeWork/CNSVEnv/bin/python\" -m pip install ipykernel -U --force-reinstall'"
     ]
    }
   ],
   "source": [
    "simulate(model=mdl.AELIF(u_rh=-50,tau_w=100,b=1,a=0.6, refractory_period=10), current=cnt.StepCurrent(value=20,stretch_variable=10, noise_range=0), title=title)\n"
   ]
  },
  {
   "cell_type": "code",
   "execution_count": null,
   "metadata": {},
   "outputs": [
    {
     "ename": "",
     "evalue": "",
     "output_type": "error",
     "traceback": [
      "\u001b[1;31mRunning cells with 'CNSVEnv' requires the ipykernel package.\n",
      "\u001b[1;31mRun the following command to install 'ipykernel' into the Python environment. \n",
      "\u001b[1;31mCommand: '\"/Users/amirali/Library/Mobile Documents/com~apple~CloudDocs/Me/University/Term 8/CNS/HomeWork/CNSVEnv/bin/python\" -m pip install ipykernel -U --force-reinstall'"
     ]
    }
   ],
   "source": [
    "simulate(model=mdl.AELIF(u_rh=-50,tau_w=100,b=1,a=0.6, refractory_period=10), current=cnt.SinCurrent(value=20,stretch_variable=10, noise_range=0), title=title)\n"
   ]
  },
  {
   "cell_type": "code",
   "execution_count": null,
   "metadata": {},
   "outputs": [
    {
     "ename": "",
     "evalue": "",
     "output_type": "error",
     "traceback": [
      "\u001b[1;31mRunning cells with 'CNSVEnv' requires the ipykernel package.\n",
      "\u001b[1;31mRun the following command to install 'ipykernel' into the Python environment. \n",
      "\u001b[1;31mCommand: '\"/Users/amirali/Library/Mobile Documents/com~apple~CloudDocs/Me/University/Term 8/CNS/HomeWork/CNSVEnv/bin/python\" -m pip install ipykernel -U --force-reinstall'"
     ]
    }
   ],
   "source": [
    "simulate(model=mdl.AELIF(u_rh=-50,tau_w=100,b=1,a=0.6, refractory_period=10), current=cnt.UniformCurrent(value=20,stretch_variable=10, noise_range=0), title=title)\n"
   ]
  },
  {
   "cell_type": "markdown",
   "metadata": {},
   "source": []
  },
  {
   "cell_type": "markdown",
   "metadata": {},
   "source": [
    "## - "
   ]
  },
  {
   "cell_type": "markdown",
   "metadata": {},
   "source": [
    "# -"
   ]
  },
  {
   "cell_type": "markdown",
   "metadata": {},
   "source": [
    "# قسمت آخر)"
   ]
  },
  {
   "cell_type": "markdown",
   "metadata": {},
   "source": [
    "## پارامتر های مدل"
   ]
  },
  {
   "cell_type": "code",
   "execution_count": null,
   "metadata": {},
   "outputs": [
    {
     "ename": "",
     "evalue": "",
     "output_type": "error",
     "traceback": [
      "\u001b[1;31mRunning cells with 'CNSVEnv' requires the ipykernel package.\n",
      "\u001b[1;31mRun the following command to install 'ipykernel' into the Python environment. \n",
      "\u001b[1;31mCommand: '\"/Users/amirali/Library/Mobile Documents/com~apple~CloudDocs/Me/University/Term 8/CNS/HomeWork/CNSVEnv/bin/python\" -m pip install ipykernel -U --force-reinstall'"
     ]
    }
   ],
   "source": [
    "simulate(model=mdl.AELIF(\n",
    "                        threshold=+30, \n",
    "                        u_rest=-65, \n",
    "                        u_reset=-70, \n",
    "                        R=1.7, \n",
    "                        tau_m=10, \n",
    "                        delta_t=1, \n",
    "                        refractory_period = 0,\n",
    "                        u_rh=-50,\n",
    "                        tau_w=100,\n",
    "                        b=0.01,\n",
    "                        a=0.6), current=cnt.SteadyCurrent(value=15), title=\"parameters of base model\")"
   ]
  },
  {
   "cell_type": "code",
   "execution_count": null,
   "metadata": {},
   "outputs": [
    {
     "ename": "",
     "evalue": "",
     "output_type": "error",
     "traceback": [
      "\u001b[1;31mRunning cells with 'CNSVEnv' requires the ipykernel package.\n",
      "\u001b[1;31mRun the following command to install 'ipykernel' into the Python environment. \n",
      "\u001b[1;31mCommand: '\"/Users/amirali/Library/Mobile Documents/com~apple~CloudDocs/Me/University/Term 8/CNS/HomeWork/CNSVEnv/bin/python\" -m pip install ipykernel -U --force-reinstall'"
     ]
    }
   ],
   "source": [
    "simulate(model=mdl.AELIF(\n",
    "                        threshold=+30, \n",
    "                        u_rest=-65, \n",
    "                        u_reset=-70, \n",
    "                        R=1.7, \n",
    "                        tau_m=10, \n",
    "                        delta_t=1, \n",
    "                        refractory_period = 0,\n",
    "                        u_rh=-50,\n",
    "                        tau_w=100,\n",
    "                        b=0.01,\n",
    "                        a=0.001), current=cnt.SteadyCurrent(value=15), title=\"parameters of base model\")"
   ]
  },
  {
   "cell_type": "code",
   "execution_count": null,
   "metadata": {},
   "outputs": [
    {
     "ename": "",
     "evalue": "",
     "output_type": "error",
     "traceback": [
      "\u001b[1;31mRunning cells with 'CNSVEnv' requires the ipykernel package.\n",
      "\u001b[1;31mRun the following command to install 'ipykernel' into the Python environment. \n",
      "\u001b[1;31mCommand: '\"/Users/amirali/Library/Mobile Documents/com~apple~CloudDocs/Me/University/Term 8/CNS/HomeWork/CNSVEnv/bin/python\" -m pip install ipykernel -U --force-reinstall'"
     ]
    }
   ],
   "source": [
    "simulate(model=mdl.AELIF(\n",
    "                        threshold=+30, \n",
    "                        u_rest=-65, \n",
    "                        u_reset=-70, \n",
    "                        R=1.7, \n",
    "                        tau_m=10, \n",
    "                        delta_t=1, \n",
    "                        refractory_period = 0,\n",
    "                        u_rh=-50,\n",
    "                        tau_w=100,\n",
    "                        b=0.01,\n",
    "                        a=10), current=cnt.SteadyCurrent(value=15), title=\"parameters of base model\")"
   ]
  },
  {
   "cell_type": "code",
   "execution_count": null,
   "metadata": {},
   "outputs": [
    {
     "ename": "",
     "evalue": "",
     "output_type": "error",
     "traceback": [
      "\u001b[1;31mRunning cells with 'CNSVEnv' requires the ipykernel package.\n",
      "\u001b[1;31mRun the following command to install 'ipykernel' into the Python environment. \n",
      "\u001b[1;31mCommand: '\"/Users/amirali/Library/Mobile Documents/com~apple~CloudDocs/Me/University/Term 8/CNS/HomeWork/CNSVEnv/bin/python\" -m pip install ipykernel -U --force-reinstall'"
     ]
    }
   ],
   "source": [
    "simulate(model=mdl.AELIF(\n",
    "                        threshold=+30, \n",
    "                        u_rest=-65, \n",
    "                        u_reset=-70, \n",
    "                        R=1.7, \n",
    "                        tau_m=10, \n",
    "                        delta_t=1, \n",
    "                        refractory_period = 0,\n",
    "                        u_rh=-50,\n",
    "                        tau_w=100,\n",
    "                        b=0.001,\n",
    "                        a=0.1), current=cnt.SteadyCurrent(value=15), title=\"parameters of base model\")"
   ]
  },
  {
   "cell_type": "code",
   "execution_count": null,
   "metadata": {},
   "outputs": [
    {
     "ename": "",
     "evalue": "",
     "output_type": "error",
     "traceback": [
      "\u001b[1;31mRunning cells with 'CNSVEnv' requires the ipykernel package.\n",
      "\u001b[1;31mRun the following command to install 'ipykernel' into the Python environment. \n",
      "\u001b[1;31mCommand: '\"/Users/amirali/Library/Mobile Documents/com~apple~CloudDocs/Me/University/Term 8/CNS/HomeWork/CNSVEnv/bin/python\" -m pip install ipykernel -U --force-reinstall'"
     ]
    }
   ],
   "source": [
    "simulate(model=mdl.AELIF(\n",
    "                        threshold=+30, \n",
    "                        u_rest=-65, \n",
    "                        u_reset=-70, \n",
    "                        R=1.7, \n",
    "                        tau_m=10, \n",
    "                        delta_t=1, \n",
    "                        refractory_period = 0,\n",
    "                        u_rh=-50,\n",
    "                        tau_w=100,\n",
    "                        b=10,\n",
    "                        a=0.1), current=cnt.SteadyCurrent(value=15), title=\"parameters of base model\")"
   ]
  },
  {
   "cell_type": "code",
   "execution_count": null,
   "metadata": {},
   "outputs": [
    {
     "ename": "",
     "evalue": "",
     "output_type": "error",
     "traceback": [
      "\u001b[1;31mRunning cells with 'CNSVEnv' requires the ipykernel package.\n",
      "\u001b[1;31mRun the following command to install 'ipykernel' into the Python environment. \n",
      "\u001b[1;31mCommand: '\"/Users/amirali/Library/Mobile Documents/com~apple~CloudDocs/Me/University/Term 8/CNS/HomeWork/CNSVEnv/bin/python\" -m pip install ipykernel -U --force-reinstall'"
     ]
    }
   ],
   "source": [
    "simulate(model=mdl.AELIF(\n",
    "                        threshold=+30, \n",
    "                        u_rest=-65, \n",
    "                        u_reset=-70, \n",
    "                        R=1.7, \n",
    "                        tau_m=10, \n",
    "                        delta_t=1, \n",
    "                        refractory_period = 0,\n",
    "                        u_rh=-50,\n",
    "                        tau_w=1,\n",
    "                        b=1,\n",
    "                        a=0.6), current=cnt.SteadyCurrent(value=15), title=\"parameters of base model\")"
   ]
  },
  {
   "cell_type": "code",
   "execution_count": null,
   "metadata": {},
   "outputs": [
    {
     "ename": "",
     "evalue": "",
     "output_type": "error",
     "traceback": [
      "\u001b[1;31mRunning cells with 'CNSVEnv' requires the ipykernel package.\n",
      "\u001b[1;31mRun the following command to install 'ipykernel' into the Python environment. \n",
      "\u001b[1;31mCommand: '\"/Users/amirali/Library/Mobile Documents/com~apple~CloudDocs/Me/University/Term 8/CNS/HomeWork/CNSVEnv/bin/python\" -m pip install ipykernel -U --force-reinstall'"
     ]
    }
   ],
   "source": [
    "simulate(model=mdl.AELIF(\n",
    "                        threshold=+30, \n",
    "                        u_rest=-65, \n",
    "                        u_reset=-70, \n",
    "                        R=1.7, \n",
    "                        tau_m=10, \n",
    "                        delta_t=1, \n",
    "                        refractory_period = 0,\n",
    "                        u_rh=-50,\n",
    "                        tau_w=100,\n",
    "                        b=1,\n",
    "                        a=0.6), current=cnt.SteadyCurrent(value=15), title=\"parameters of base model\")"
   ]
  },
  {
   "cell_type": "code",
   "execution_count": null,
   "metadata": {},
   "outputs": [
    {
     "ename": "",
     "evalue": "",
     "output_type": "error",
     "traceback": [
      "\u001b[1;31mRunning cells with 'CNSVEnv' requires the ipykernel package.\n",
      "\u001b[1;31mRun the following command to install 'ipykernel' into the Python environment. \n",
      "\u001b[1;31mCommand: '\"/Users/amirali/Library/Mobile Documents/com~apple~CloudDocs/Me/University/Term 8/CNS/HomeWork/CNSVEnv/bin/python\" -m pip install ipykernel -U --force-reinstall'"
     ]
    }
   ],
   "source": [
    "simulate(model=mdl.AELIF(\n",
    "                        threshold=+30, \n",
    "                        u_rest=-65, \n",
    "                        u_reset=-70, \n",
    "                        R=1.7, \n",
    "                        tau_m=10, \n",
    "                        delta_t=1, \n",
    "                        refractory_period = 0,\n",
    "                        u_rh=-60,\n",
    "                        tau_w=0,\n",
    "                        b=0.0,\n",
    "                        a=0.0), current=cnt.SteadyCurrent(value=15), title=\"parameters of base model\")"
   ]
  },
  {
   "cell_type": "code",
   "execution_count": null,
   "metadata": {},
   "outputs": [
    {
     "ename": "",
     "evalue": "",
     "output_type": "error",
     "traceback": [
      "\u001b[1;31mRunning cells with 'CNSVEnv' requires the ipykernel package.\n",
      "\u001b[1;31mRun the following command to install 'ipykernel' into the Python environment. \n",
      "\u001b[1;31mCommand: '\"/Users/amirali/Library/Mobile Documents/com~apple~CloudDocs/Me/University/Term 8/CNS/HomeWork/CNSVEnv/bin/python\" -m pip install ipykernel -U --force-reinstall'"
     ]
    }
   ],
   "source": [
    "simulate(model=mdl.AELIF(\n",
    "                        threshold=+30, \n",
    "                        u_rest=-65, \n",
    "                        u_reset=-70, \n",
    "                        R=1.7, \n",
    "                        tau_m=10, \n",
    "                        delta_t=1, \n",
    "                        refractory_period = 0,\n",
    "                        u_rh=-41,\n",
    "                        tau_w=0,\n",
    "                        b=0.0,\n",
    "                        a=0.0), current=cnt.SteadyCurrent(value=15), title=\"parameters of base model\")"
   ]
  },
  {
   "cell_type": "code",
   "execution_count": null,
   "metadata": {},
   "outputs": [
    {
     "ename": "",
     "evalue": "",
     "output_type": "error",
     "traceback": [
      "\u001b[1;31mRunning cells with 'CNSVEnv' requires the ipykernel package.\n",
      "\u001b[1;31mRun the following command to install 'ipykernel' into the Python environment. \n",
      "\u001b[1;31mCommand: '\"/Users/amirali/Library/Mobile Documents/com~apple~CloudDocs/Me/University/Term 8/CNS/HomeWork/CNSVEnv/bin/python\" -m pip install ipykernel -U --force-reinstall'"
     ]
    }
   ],
   "source": [
    "simulate(model=mdl.ELIF(\n",
    "                        threshold=+30, \n",
    "                        u_rest=-65, \n",
    "                        u_reset=-70, \n",
    "                        R=1.7, \n",
    "                        tau_m=10, \n",
    "                        delta_t=0.1, \n",
    "                        refractory_period = 0,\n",
    "                        u_rh=-50), current=cnt.SteadyCurrent(value=10), title=\"parameters of base model\")"
   ]
  },
  {
   "cell_type": "code",
   "execution_count": null,
   "metadata": {},
   "outputs": [
    {
     "ename": "",
     "evalue": "",
     "output_type": "error",
     "traceback": [
      "\u001b[1;31mRunning cells with 'CNSVEnv' requires the ipykernel package.\n",
      "\u001b[1;31mRun the following command to install 'ipykernel' into the Python environment. \n",
      "\u001b[1;31mCommand: '\"/Users/amirali/Library/Mobile Documents/com~apple~CloudDocs/Me/University/Term 8/CNS/HomeWork/CNSVEnv/bin/python\" -m pip install ipykernel -U --force-reinstall'"
     ]
    }
   ],
   "source": [
    "simulate(model=mdl.ELIF(\n",
    "                        threshold=+30, \n",
    "                        u_rest=-65, \n",
    "                        u_reset=-70, \n",
    "                        R=1.7, \n",
    "                        tau_m=10, \n",
    "                        delta_t=10, \n",
    "                        refractory_period = 0,\n",
    "                        u_rh=-50), current=cnt.SteadyCurrent(value=10), title=\"parameters of base model\")"
   ]
  },
  {
   "cell_type": "code",
   "execution_count": null,
   "metadata": {},
   "outputs": [
    {
     "ename": "",
     "evalue": "",
     "output_type": "error",
     "traceback": [
      "\u001b[1;31mRunning cells with 'CNSVEnv' requires the ipykernel package.\n",
      "\u001b[1;31mRun the following command to install 'ipykernel' into the Python environment. \n",
      "\u001b[1;31mCommand: '\"/Users/amirali/Library/Mobile Documents/com~apple~CloudDocs/Me/University/Term 8/CNS/HomeWork/CNSVEnv/bin/python\" -m pip install ipykernel -U --force-reinstall'"
     ]
    }
   ],
   "source": [
    "simulate(model=mdl.LIF(\n",
    "                        threshold=-55,\n",
    "                        u_rest=-65,\n",
    "                        u_reset=-70, \n",
    "                        R=1.7,\n",
    "                        tau_m=10,\n",
    "                        refractory_period = 0), current=cnt.SteadyCurrent(value=6), title=\"parameters of base model\")"
   ]
  },
  {
   "cell_type": "code",
   "execution_count": null,
   "metadata": {},
   "outputs": [
    {
     "ename": "",
     "evalue": "",
     "output_type": "error",
     "traceback": [
      "\u001b[1;31mRunning cells with 'CNSVEnv' requires the ipykernel package.\n",
      "\u001b[1;31mRun the following command to install 'ipykernel' into the Python environment. \n",
      "\u001b[1;31mCommand: '\"/Users/amirali/Library/Mobile Documents/com~apple~CloudDocs/Me/University/Term 8/CNS/HomeWork/CNSVEnv/bin/python\" -m pip install ipykernel -U --force-reinstall'"
     ]
    }
   ],
   "source": [
    "simulate(model=mdl.LIF(\n",
    "                        threshold=-55,\n",
    "                        u_rest=-65,\n",
    "                        u_reset=-70, \n",
    "                        R=1.7,\n",
    "                        tau_m=100,\n",
    "                        refractory_period = 0), current=cnt.SteadyCurrent(value=6), title=\"parameters of base model\")"
   ]
  },
  {
   "cell_type": "code",
   "execution_count": null,
   "metadata": {},
   "outputs": [
    {
     "ename": "",
     "evalue": "",
     "output_type": "error",
     "traceback": [
      "\u001b[1;31mRunning cells with 'CNSVEnv' requires the ipykernel package.\n",
      "\u001b[1;31mRun the following command to install 'ipykernel' into the Python environment. \n",
      "\u001b[1;31mCommand: '\"/Users/amirali/Library/Mobile Documents/com~apple~CloudDocs/Me/University/Term 8/CNS/HomeWork/CNSVEnv/bin/python\" -m pip install ipykernel -U --force-reinstall'"
     ]
    }
   ],
   "source": [
    "simulate(model=mdl.LIF(\n",
    "                        threshold=-55,\n",
    "                        u_rest=-65,\n",
    "                        u_reset=-70, \n",
    "                        R=1,\n",
    "                        tau_m=10,\n",
    "                        refractory_period = 0), current=cnt.SteadyCurrent(value=6), title=\"parameters of base model\")"
   ]
  },
  {
   "cell_type": "code",
   "execution_count": null,
   "metadata": {},
   "outputs": [
    {
     "ename": "",
     "evalue": "",
     "output_type": "error",
     "traceback": [
      "\u001b[1;31mRunning cells with 'CNSVEnv' requires the ipykernel package.\n",
      "\u001b[1;31mRun the following command to install 'ipykernel' into the Python environment. \n",
      "\u001b[1;31mCommand: '\"/Users/amirali/Library/Mobile Documents/com~apple~CloudDocs/Me/University/Term 8/CNS/HomeWork/CNSVEnv/bin/python\" -m pip install ipykernel -U --force-reinstall'"
     ]
    }
   ],
   "source": [
    "simulate(model=mdl.LIF(\n",
    "                        threshold=-55,\n",
    "                        u_rest=-65,\n",
    "                        u_reset=-70, \n",
    "                        R=2,\n",
    "                        tau_m=10,\n",
    "                        refractory_period = 0), current=cnt.SteadyCurrent(value=6), title=\"parameters of base model\")"
   ]
  },
  {
   "cell_type": "code",
   "execution_count": null,
   "metadata": {},
   "outputs": [
    {
     "ename": "",
     "evalue": "",
     "output_type": "error",
     "traceback": [
      "\u001b[1;31mRunning cells with 'CNSVEnv' requires the ipykernel package.\n",
      "\u001b[1;31mRun the following command to install 'ipykernel' into the Python environment. \n",
      "\u001b[1;31mCommand: '\"/Users/amirali/Library/Mobile Documents/com~apple~CloudDocs/Me/University/Term 8/CNS/HomeWork/CNSVEnv/bin/python\" -m pip install ipykernel -U --force-reinstall'"
     ]
    }
   ],
   "source": [
    "simulate(model=mdl.LIF(\n",
    "                        threshold=-55,\n",
    "                        u_rest=-65,\n",
    "                        u_reset=-170, \n",
    "                        R=1.7,\n",
    "                        tau_m=10,\n",
    "                        refractory_period = 0), current=cnt.SteadyCurrent(value=6), title=\"parameters of base model\")"
   ]
  },
  {
   "cell_type": "code",
   "execution_count": null,
   "metadata": {},
   "outputs": [
    {
     "ename": "",
     "evalue": "",
     "output_type": "error",
     "traceback": [
      "\u001b[1;31mRunning cells with 'CNSVEnv' requires the ipykernel package.\n",
      "\u001b[1;31mRun the following command to install 'ipykernel' into the Python environment. \n",
      "\u001b[1;31mCommand: '\"/Users/amirali/Library/Mobile Documents/com~apple~CloudDocs/Me/University/Term 8/CNS/HomeWork/CNSVEnv/bin/python\" -m pip install ipykernel -U --force-reinstall'"
     ]
    }
   ],
   "source": [
    "simulate(model=mdl.LIF(\n",
    "                        threshold=-55,\n",
    "                        u_rest=-65,\n",
    "                        u_reset=-70, \n",
    "                        R=1.7,\n",
    "                        tau_m=10,\n",
    "                        refractory_period = 0), current=cnt.SteadyCurrent(value=6), title=\"parameters of base model\")"
   ]
  },
  {
   "cell_type": "code",
   "execution_count": null,
   "metadata": {},
   "outputs": [
    {
     "ename": "",
     "evalue": "",
     "output_type": "error",
     "traceback": [
      "\u001b[1;31mRunning cells with 'CNSVEnv' requires the ipykernel package.\n",
      "\u001b[1;31mRun the following command to install 'ipykernel' into the Python environment. \n",
      "\u001b[1;31mCommand: '\"/Users/amirali/Library/Mobile Documents/com~apple~CloudDocs/Me/University/Term 8/CNS/HomeWork/CNSVEnv/bin/python\" -m pip install ipykernel -U --force-reinstall'"
     ]
    }
   ],
   "source": [
    "simulate(model=mdl.LIF(\n",
    "                        threshold=-55,\n",
    "                        u_rest=-85,\n",
    "                        u_reset=-90, \n",
    "                        R=1.7,\n",
    "                        tau_m=10,\n",
    "                        refractory_period = 0), current=cnt.SteadyCurrent(value=6), title=\"parameters of base model\")"
   ]
  },
  {
   "cell_type": "code",
   "execution_count": null,
   "metadata": {},
   "outputs": [
    {
     "ename": "",
     "evalue": "",
     "output_type": "error",
     "traceback": [
      "\u001b[1;31mRunning cells with 'CNSVEnv' requires the ipykernel package.\n",
      "\u001b[1;31mRun the following command to install 'ipykernel' into the Python environment. \n",
      "\u001b[1;31mCommand: '\"/Users/amirali/Library/Mobile Documents/com~apple~CloudDocs/Me/University/Term 8/CNS/HomeWork/CNSVEnv/bin/python\" -m pip install ipykernel -U --force-reinstall'"
     ]
    }
   ],
   "source": [
    "simulate(model=mdl.LIF(\n",
    "                        threshold=-55,\n",
    "                        u_rest=-55,\n",
    "                        u_reset=-90, \n",
    "                        R=1.7,\n",
    "                        tau_m=10,\n",
    "                        refractory_period = 0), current=cnt.SteadyCurrent(value=6), title=\"parameters of base model\")"
   ]
  },
  {
   "cell_type": "code",
   "execution_count": null,
   "metadata": {},
   "outputs": [
    {
     "ename": "",
     "evalue": "",
     "output_type": "error",
     "traceback": [
      "\u001b[1;31mRunning cells with 'CNSVEnv' requires the ipykernel package.\n",
      "\u001b[1;31mRun the following command to install 'ipykernel' into the Python environment. \n",
      "\u001b[1;31mCommand: '\"/Users/amirali/Library/Mobile Documents/com~apple~CloudDocs/Me/University/Term 8/CNS/HomeWork/CNSVEnv/bin/python\" -m pip install ipykernel -U --force-reinstall'"
     ]
    }
   ],
   "source": [
    "simulate(model=mdl.LIF(\n",
    "                        threshold=-60,\n",
    "                        u_rest=-65,\n",
    "                        u_reset=-70, \n",
    "                        R=1.7,\n",
    "                        tau_m=10,\n",
    "                        refractory_period = 0), current=cnt.SteadyCurrent(value=6), title=\"parameters of base model\")"
   ]
  },
  {
   "cell_type": "code",
   "execution_count": null,
   "metadata": {},
   "outputs": [
    {
     "ename": "",
     "evalue": "",
     "output_type": "error",
     "traceback": [
      "\u001b[1;31mRunning cells with 'CNSVEnv' requires the ipykernel package.\n",
      "\u001b[1;31mRun the following command to install 'ipykernel' into the Python environment. \n",
      "\u001b[1;31mCommand: '\"/Users/amirali/Library/Mobile Documents/com~apple~CloudDocs/Me/University/Term 8/CNS/HomeWork/CNSVEnv/bin/python\" -m pip install ipykernel -U --force-reinstall'"
     ]
    }
   ],
   "source": [
    "simulate(model=mdl.LIF(\n",
    "                        threshold=-50,\n",
    "                        u_rest=-65,\n",
    "                        u_reset=-70, \n",
    "                        R=1.7,\n",
    "                        tau_m=10,\n",
    "                        refractory_period = 0), current=cnt.SteadyCurrent(value=6), title=\"parameters of base model\")"
   ]
  },
  {
   "cell_type": "code",
   "execution_count": null,
   "metadata": {},
   "outputs": [
    {
     "ename": "",
     "evalue": "",
     "output_type": "error",
     "traceback": [
      "\u001b[1;31mRunning cells with 'CNSVEnv' requires the ipykernel package.\n",
      "\u001b[1;31mRun the following command to install 'ipykernel' into the Python environment. \n",
      "\u001b[1;31mCommand: '\"/Users/amirali/Library/Mobile Documents/com~apple~CloudDocs/Me/University/Term 8/CNS/HomeWork/CNSVEnv/bin/python\" -m pip install ipykernel -U --force-reinstall'"
     ]
    }
   ],
   "source": [
    "simulate(model=mdl.LIF(\n",
    "                        threshold=-55,\n",
    "                        u_rest=-65,\n",
    "                        u_reset=-70, \n",
    "                        R=1.7,\n",
    "                        tau_m=10,\n",
    "                        refractory_period = 0), current=cnt.SteadyCurrent(value=6), title=\"parameters of base model\")"
   ]
  },
  {
   "cell_type": "code",
   "execution_count": null,
   "metadata": {},
   "outputs": [
    {
     "ename": "",
     "evalue": "",
     "output_type": "error",
     "traceback": [
      "\u001b[1;31mRunning cells with 'CNSVEnv' requires the ipykernel package.\n",
      "\u001b[1;31mRun the following command to install 'ipykernel' into the Python environment. \n",
      "\u001b[1;31mCommand: '\"/Users/amirali/Library/Mobile Documents/com~apple~CloudDocs/Me/University/Term 8/CNS/HomeWork/CNSVEnv/bin/python\" -m pip install ipykernel -U --force-reinstall'"
     ]
    }
   ],
   "source": [
    "simulate(model=mdl.LIF(\n",
    "                        threshold=-55,\n",
    "                        u_rest=-65,\n",
    "                        u_reset=-70, \n",
    "                        R=1.7,\n",
    "                        tau_m=10,\n",
    "                        refractory_period = 100), current=cnt.SteadyCurrent(value=6), title=\"parameters of base model\")"
   ]
  },
  {
   "cell_type": "markdown",
   "metadata": {},
   "source": [
    "## -"
   ]
  },
  {
   "cell_type": "code",
   "execution_count": null,
   "metadata": {},
   "outputs": [
    {
     "ename": "",
     "evalue": "",
     "output_type": "error",
     "traceback": [
      "\u001b[1;31mRunning cells with 'CNSVEnv' requires the ipykernel package.\n",
      "\u001b[1;31mRun the following command to install 'ipykernel' into the Python environment. \n",
      "\u001b[1;31mCommand: '\"/Users/amirali/Library/Mobile Documents/com~apple~CloudDocs/Me/University/Term 8/CNS/HomeWork/CNSVEnv/bin/python\" -m pip install ipykernel -U --force-reinstall'"
     ]
    }
   ],
   "source": [
    "simulate(model=mdl.LIF(\n",
    "                        threshold=-55,\n",
    "                        u_rest=-65,\n",
    "                        u_reset=-70, \n",
    "                        R=1.7,\n",
    "                        tau_m=10,\n",
    "                        refractory_period = 0), current=cnt.SteadyCurrent(value=6), title=\"parameters of base model\")"
   ]
  },
  {
   "cell_type": "markdown",
   "metadata": {},
   "source": []
  },
  {
   "cell_type": "markdown",
   "metadata": {},
   "source": [
    "# -"
   ]
  },
  {
   "cell_type": "markdown",
   "metadata": {},
   "source": [
    "# ---"
   ]
  },
  {
   "cell_type": "markdown",
   "metadata": {},
   "source": [
    "---"
   ]
  },
  {
   "cell_type": "markdown",
   "metadata": {},
   "source": [
    "---"
   ]
  },
  {
   "cell_type": "markdown",
   "metadata": {},
   "source": [
    "---"
   ]
  },
  {
   "cell_type": "markdown",
   "metadata": {},
   "source": []
  },
  {
   "cell_type": "markdown",
   "metadata": {},
   "source": [
    "# AELIF"
   ]
  },
  {
   "cell_type": "code",
   "execution_count": null,
   "metadata": {},
   "outputs": [
    {
     "ename": "",
     "evalue": "",
     "output_type": "error",
     "traceback": [
      "\u001b[1;31mRunning cells with 'CNSVEnv' requires the ipykernel package.\n",
      "\u001b[1;31mRun the following command to install 'ipykernel' into the Python environment. \n",
      "\u001b[1;31mCommand: '\"/Users/amirali/Library/Mobile Documents/com~apple~CloudDocs/Me/University/Term 8/CNS/HomeWork/CNSVEnv/bin/python\" -m pip install ipykernel -U --force-reinstall'"
     ]
    }
   ],
   "source": [
    "simulate(model=mdl.AELIF(u_rh=-50,tau_w=100,b=0.01,a=0.6), current=cnt.UniformCurrent(value=15,stretch_variable=10, noise_range=2))\n"
   ]
  },
  {
   "cell_type": "code",
   "execution_count": null,
   "metadata": {},
   "outputs": [
    {
     "ename": "",
     "evalue": "",
     "output_type": "error",
     "traceback": [
      "\u001b[1;31mRunning cells with 'CNSVEnv' requires the ipykernel package.\n",
      "\u001b[1;31mRun the following command to install 'ipykernel' into the Python environment. \n",
      "\u001b[1;31mCommand: '\"/Users/amirali/Library/Mobile Documents/com~apple~CloudDocs/Me/University/Term 8/CNS/HomeWork/CNSVEnv/bin/python\" -m pip install ipykernel -U --force-reinstall'"
     ]
    }
   ],
   "source": [
    "simulate(model=mdl.AELIF(u_rh=-50,tau_w=100,b=0.01,a=0.6), current=cnt.UniformCurrent(value=15,stretch_variable=10, noise_range=2))\n"
   ]
  },
  {
   "cell_type": "code",
   "execution_count": null,
   "metadata": {},
   "outputs": [
    {
     "ename": "",
     "evalue": "",
     "output_type": "error",
     "traceback": [
      "\u001b[1;31mRunning cells with 'CNSVEnv' requires the ipykernel package.\n",
      "\u001b[1;31mRun the following command to install 'ipykernel' into the Python environment. \n",
      "\u001b[1;31mCommand: '\"/Users/amirali/Library/Mobile Documents/com~apple~CloudDocs/Me/University/Term 8/CNS/HomeWork/CNSVEnv/bin/python\" -m pip install ipykernel -U --force-reinstall'"
     ]
    }
   ],
   "source": [
    "simulate_IF_AELIF(rng=40)"
   ]
  },
  {
   "cell_type": "code",
   "execution_count": null,
   "metadata": {},
   "outputs": [
    {
     "ename": "",
     "evalue": "",
     "output_type": "error",
     "traceback": [
      "\u001b[1;31mRunning cells with 'CNSVEnv' requires the ipykernel package.\n",
      "\u001b[1;31mRun the following command to install 'ipykernel' into the Python environment. \n",
      "\u001b[1;31mCommand: '\"/Users/amirali/Library/Mobile Documents/com~apple~CloudDocs/Me/University/Term 8/CNS/HomeWork/CNSVEnv/bin/python\" -m pip install ipykernel -U --force-reinstall'"
     ]
    }
   ],
   "source": []
  }
 ],
 "metadata": {
  "kernelspec": {
   "display_name": "CNSVEnv",
   "language": "python",
   "name": "python3"
  },
  "language_info": {
   "codemirror_mode": {
    "name": "ipython",
    "version": 3
   },
   "file_extension": ".py",
   "mimetype": "text/x-python",
   "name": "python",
   "nbconvert_exporter": "python",
   "pygments_lexer": "ipython3",
   "version": "3.11.8"
  }
 },
 "nbformat": 4,
 "nbformat_minor": 2
}
